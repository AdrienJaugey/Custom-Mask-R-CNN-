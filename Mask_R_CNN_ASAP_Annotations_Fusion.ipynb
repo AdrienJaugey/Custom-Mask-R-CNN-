{
 "cells": [
  {
   "cell_type": "markdown",
   "metadata": {
    "id": "KqzoydcMBgc-"
   },
   "source": [
    "# Mask R-CNN - ASAP Annotations Fusion"
   ]
  },
  {
   "cell_type": "markdown",
   "metadata": {
    "id": "Tu0r49kND1_z"
   },
   "source": [
    "## Initialisation"
   ]
  },
  {
   "cell_type": "markdown",
   "metadata": {
    "id": "fA4OVDl3D5zL"
   },
   "source": [
    "### Detecting Environment"
   ]
  },
  {
   "cell_type": "code",
   "execution_count": null,
   "metadata": {
    "id": "1JnPwYerzUO4"
   },
   "outputs": [],
   "source": [
    "import sys\n",
    "IN_COLAB = 'google.colab' in sys.modules\n",
    "print(\"Executing in Google Colab\" if IN_COLAB else \"Executing locally\")"
   ]
  },
  {
   "cell_type": "markdown",
   "metadata": {
    "id": "LXIK5fcSD9Xq"
   },
   "source": [
    "### Getting all the needed files"
   ]
  },
  {
   "cell_type": "code",
   "execution_count": null,
   "metadata": {
    "id": "wa3F4QvMxmCE"
   },
   "outputs": [],
   "source": [
    "if IN_COLAB:\n",
    "    import shutil\n",
    "    shutil.rmtree('sample_data/', ignore_errors=True)\n",
    "    import os\n",
    "    GITHUB_REPO = \"https://raw.githubusercontent.com/AdrienJaugey/Mask-R-CNN-Inference-Tool/stable/\"\n",
    "    files = ['mrcnn/TensorflowDetector.py', 'mrcnn/utils.py', 'mrcnn/visualize.py', 'mrcnn/post_processing.py',\n",
    "             'mrcnn/Config.py', 'mrcnn/statistics.py', 'datasetTools/datasetDivider.py', 'common_utils.py',\n",
    "             'datasetTools/datasetWrapper.py', 'datasetTools/datasetIsolator.py', 'datasetTools/AnnotationAdapter.py',\n",
    "             'datasetTools/ASAPAdapter.py', 'datasetTools/LabelMeAdapter.py', 'datasetTools/CustomDataset.py']\n",
    "    for fileToDownload in files:\n",
    "        url = GITHUB_REPO + fileToDownload\n",
    "        !wget -qN $url\n",
    "        if '/' in fileToDownload:\n",
    "            destDir = fileToDownload.split('/')[0]\n",
    "            fileName = fileToDownload.split('/')[1].replace('/', '')\n",
    "            os.makedirs(destDir, exist_ok=True)\n",
    "            !mv $fileName $fileToDownload"
   ]
  },
  {
   "cell_type": "code",
   "execution_count": null,
   "metadata": {},
   "outputs": [],
   "source": [
    "if IN_COLAB:\n",
    "    from google.colab import drive\n",
    "    drive.mount('/content/drive')"
   ]
  },
  {
   "cell_type": "markdown",
   "metadata": {
    "id": "w-I3GmFGEqUQ"
   },
   "source": [
    "## Annotations fusion"
   ]
  },
  {
   "cell_type": "code",
   "execution_count": null,
   "metadata": {
    "pycharm": {
     "name": "#%%\n"
    }
   },
   "outputs": [],
   "source": [
    "import os\n",
    "from datasetTools import AnnotationAdapter\n",
    "from datasetTools.ASAPAdapter import ASAPAdapter as a\n",
    "from common_utils import progressBar"
   ]
  },
  {
   "cell_type": "markdown",
   "metadata": {},
   "source": [
    "Please set ```firstAnnotationsDir```, ```secondAnnotationsDir``` and ```outputAnnotationsDir``` before executing the cell."
   ]
  },
  {
   "cell_type": "code",
   "execution_count": null,
   "metadata": {},
   "outputs": [],
   "source": [
    "firstAnnotationsDir = \"annotations_in_1/\" #@param {type:\"string\"}\n",
    "secondAnnotationsDir = \"annotations_in_2/\" #@param {type:\"string\"}\n",
    "outputAnnotationsDir = \"annotations_out/\" #@param {type:\"string\"}\n",
    "if IN_COLAB:\n",
    "    firstAnnotationsDir = os.path.join('drive/MyDrive', firstAnnotationsDir)\n",
    "    secondAnnotationsDir = os.path.join('drive/MyDrive', secondAnnotationsDir)\n",
    "    outputAnnotationsDir = os.path.join('drive/MyDrive', outputAnnotationsDir)\n",
    "firstAnnotationsDir = os.path.normpath(firstAnnotationsDir)\n",
    "secondAnnotationsDir = os.path.normpath(secondAnnotationsDir)\n",
    "outputAnnotationsDir = os.path.normpath(outputAnnotationsDir)"
   ]
  },
  {
   "cell_type": "code",
   "execution_count": null,
   "metadata": {
    "id": "Z6OOmdASyMvJ",
    "pycharm": {
     "name": "#%%\n"
    },
    "scrolled": false
   },
   "outputs": [],
   "source": [
    "firstDirList = os.listdir(firstAnnotationsDir)\n",
    "secondDirList = os.listdir(secondAnnotationsDir)\n",
    "files = [file for file in firstDirList if file in secondDirList]\n",
    "total = len(files)\n",
    "if not os.path.exists(outputAnnotationsDir):\n",
    "    os.makedirs(outputAnnotationsDir)\n",
    "for idx, file in enumerate(files):\n",
    "    progressBar(idx + 1, total, prefix=\"Fusing annotations\", suffix=f\"Current file : {file}\")\n",
    "    a.fuseAnnotationsFiles([os.path.join(folder, file) for folder in [firstAnnotationsDir, secondAnnotationsDir]],\n",
    "                           os.path.join(outputAnnotationsDir, file))\n",
    "print(\"\\nDone !\")"
   ]
  }
 ],
 "metadata": {
  "colab": {
   "authorship_tag": "ABX9TyOHBS6d5l6TXpghydDsqc9D",
   "collapsed_sections": [],
   "name": "Mask_R_CNN_Stats_Extractor.ipynb",
   "provenance": [],
   "toc_visible": true
  },
  "kernelspec": {
   "display_name": "Python 3",
   "language": "python",
   "name": "python3"
  },
  "language_info": {
   "codemirror_mode": {
    "name": "ipython",
    "version": 3
   },
   "file_extension": ".py",
   "mimetype": "text/x-python",
   "name": "python",
   "nbconvert_exporter": "python",
   "pygments_lexer": "ipython3",
   "version": "3.8.8"
  }
 },
 "nbformat": 4,
 "nbformat_minor": 1
}