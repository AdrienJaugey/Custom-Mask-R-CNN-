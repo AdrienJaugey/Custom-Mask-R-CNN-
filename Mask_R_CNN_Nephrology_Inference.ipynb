{
 "nbformat": 4,
 "nbformat_minor": 0,
 "metadata": {
  "celltoolbar": "Format de la Cellule Texte Brut",
  "colab": {
   "name": "Mask_R_CNN_Nephrology_Inference.ipynb",
   "provenance": [],
   "private_outputs": true,
   "collapsed_sections": []
  },
  "kernelspec": {
   "display_name": "Python 3",
   "language": "python",
   "name": "python3"
  },
  "language_info": {
   "codemirror_mode": {
    "name": "ipython",
    "version": 3
   },
   "file_extension": ".py",
   "mimetype": "text/x-python",
   "name": "python",
   "nbconvert_exporter": "python",
   "pygments_lexer": "ipython3",
   "version": "3.5.6"
  }
 },
 "cells": [
  {
   "cell_type": "markdown",
   "metadata": {
    "colab_type": "text",
    "id": "Dto-uOuWSZIE"
   },
   "source": [
    "# Mask R-CNN - Nephrology Inference\n",
    "This is an custom version of [Mask R-CNN - Train cell nucleus Dataset](https://colab.research.google.com/github/navidyou/Mask-RCNN-implementation-for-cell-nucleus-detection-executable-on-google-colab-/blob/master/mask_RCNN_cell_nucleus_google_colab.ipynb) for Google Colab. \n",
    "\n",
    "If using this notebook on Google Colab, GPU/TPU might not be used due to version of TensorFlow."
   ]
  },
  {
   "cell_type": "markdown",
   "metadata": {
    "id": "3q6-BgK4Hit3",
    "colab_type": "text"
   },
   "source": [
    "## Google Colab Only\n",
    "\n",
    "Execute only if using this notebook on Google Colab (installing compatible librairies and getting files needed). Errors might appear, do not worry about this."
   ]
  },
  {
   "cell_type": "code",
   "metadata": {
    "id": "8oBHacJBHit4",
    "colab_type": "code",
    "colab": {}
   },
   "source": [
    "!pip install -q scipy==1.1\n",
    "!pip install -q tensorflow==1.7\n",
    "!pip install -q keras==2.1.6\n",
    "GITHUB_REPO = \"https://raw.githubusercontent.com/AdrienJaugey/Custom-Mask-R-CNN-for-kidney-s-cell-recognition/master/\"\n",
    "files = ['mrcnn/config.py', 'mrcnn/utils.py', 'mrcnn/model.py', 'mrcnn/visualize.py', 'datasetTools/datasetDivider.py']\n",
    "for fileToDownload in files:\n",
    "  url = GITHUB_REPO + fileToDownload\n",
    "  !wget -N $url"
   ],
   "execution_count": 0,
   "outputs": []
  },
  {
   "cell_type": "markdown",
   "metadata": {
    "id": "wbSFFFAvNaEi",
    "colab_type": "text"
   },
   "source": [
    "### Connecting to Google Drive"
   ]
  },
  {
   "cell_type": "markdown",
   "metadata": {
    "id": "GYwuwAxzplbJ",
    "colab_type": "text"
   },
   "source": [
    "The first time this cell is executed, a link should appear, asking you to accept to give access to files of a google account. \n",
    "1.   **Follow the link**;\n",
    "2.   **Choose the account** you want to link;\n",
    "3.   **Accept**;\n",
    "4.   **Copy the key** Google gave you;\n",
    "5.   **Paste the key in the text field** that appeared below the first link you used,\n",
    "6.   **Press ENTER**."
   ]
  },
  {
   "cell_type": "code",
   "metadata": {
    "id": "mz6TCpuyNg-H",
    "colab_type": "code",
    "colab": {}
   },
   "source": [
    "from google.colab import drive\n",
    "drive.mount('/content/drive')"
   ],
   "execution_count": 0,
   "outputs": []
  },
  {
   "cell_type": "markdown",
   "metadata": {
    "id": "BJcHCUUkLXW_",
    "colab_type": "text"
   },
   "source": [
    "###Retrieving your image"
   ]
  },
  {
   "cell_type": "markdown",
   "metadata": {
    "id": "pNbQJr9OrFKd",
    "colab_type": "text"
   },
   "source": [
    "Choose how to get your image from the following list on the right   \n",
    "Use ```.jp2``` or ```.png``` images only !\n"
   ]
  },
  {
   "cell_type": "code",
   "metadata": {
    "id": "dLJfs3vx45kF",
    "colab_type": "code",
    "colab": {}
   },
   "source": [
    "howToGetImage = \"Upload\" #@param [\"Upload\", \"From Google Drive\"]"
   ],
   "execution_count": 0,
   "outputs": []
  },
  {
   "cell_type": "markdown",
   "metadata": {
    "id": "QM47OP_BZEs2",
    "colab_type": "text"
   },
   "source": [
    "#### By upload"
   ]
  },
  {
   "cell_type": "code",
   "metadata": {
    "id": "AR3uN68SKfgj",
    "colab_type": "code",
    "colab": {}
   },
   "source": [
    "if howToGetImage == \"Upload\":\n",
    "  print(\"Please upload the image you want to run the inference on\")\n",
    "  from google.colab import files\n",
    "  src = list(files.upload().values())[0]"
   ],
   "execution_count": 0,
   "outputs": []
  },
  {
   "cell_type": "markdown",
   "metadata": {
    "id": "_0-0cbIWY8bo",
    "colab_type": "text"
   },
   "source": [
    "#### By copy from Google Drive"
   ]
  },
  {
   "cell_type": "markdown",
   "metadata": {
    "id": "pqWQ-IpWtDwo",
    "colab_type": "text"
   },
   "source": [
    "Be sure to customize the 2 variables for Google Colab to be able find your file in Google Drive.\n",
    "Let's say you have this hierarchy in your Google Drive:\n",
    "```\n",
    "Root directory of Google Drive\n",
    "  ├─── Directory1\n",
    "  └─── Directory2\n",
    "       ├─── images\n",
    "       │    └─── example.png\n",
    "       └─── saved_weights\n",
    "            └─── weights.h5\n",
    "```\n",
    "1.   ```customPathInDrive``` must represent all the directories between the root directory and your weights file. In the example, it would be ```Directory2/images/```. **Do not forget the final /** if you have to use this variable;\n",
    "2.   ```imageFileName``` must represent the file you want to upload. In the example, it would be ```example.png```.\n",
    "\n",
    "Use the text fields available on the right."
   ]
  },
  {
   "cell_type": "code",
   "metadata": {
    "id": "PgLtCKzicGR_",
    "colab_type": "code",
    "colab": {}
   },
   "source": [
    "if howToGetImage == \"From Google Drive\":\n",
    "  pathToDrive = \"'/content/drive/My Drive/\"\n",
    "  # Keep customPathInDrive empty if file directly in root directory of Google Drive\n",
    "  customPathInDrive = \"\" #@param {type:\"string\"}\n",
    "  imageFileName = \"\" #@param {type:\"string\"}\n",
    "  pathToImage = pathToDrive + customPathInDrive + imageFileName + \"'\"\n",
    "  print(\"Copying {} to {}\".format(pathToImage, imageFileName))\n",
    "  !cp -u $pathToImage $imageFileName"
   ],
   "execution_count": 0,
   "outputs": []
  },
  {
   "cell_type": "markdown",
   "metadata": {
    "id": "blk_Q7PycM68",
    "colab_type": "text"
   },
   "source": [
    "### Retrieving Weights File"
   ]
  },
  {
   "cell_type": "markdown",
   "metadata": {
    "id": "UU5PSzKey9JQ",
    "colab_type": "text"
   },
   "source": [
    "Same thing than retrieving an image file using Google Drive but it is the saved weights file (```.h5``` extension). With the past example, it would be ```Directory2/saved_weights/``` as ```customPathInDrive``` and ```weights.h5``` as ```weightFileName```."
   ]
  },
  {
   "cell_type": "code",
   "metadata": {
    "id": "PbtGqkTmY7qV",
    "colab_type": "code",
    "colab": {}
   },
   "source": [
    "pathToDrive = \"'/content/drive/My Drive/\"\n",
    "# Keep customPathInDrive empty if file directly in root directory of Google Drive\n",
    "customPathInDrive = \"\" #@param {type:\"string\"}\n",
    "weightFileName = \"mask_rcnn_nephrologie_451_50.h5\" #@param {type:\"string\"}\n",
    "pathToWeights = pathToDrive + customPathInDrive + weightFileName + \"'\"\n",
    "print(\"Copying {} to {}\".format(pathToWeights, weightFileName))\n",
    "!cp -u $pathToWeights $weightFileName"
   ],
   "execution_count": 0,
   "outputs": []
  },
  {
   "cell_type": "markdown",
   "metadata": {
    "colab_type": "text",
    "id": "9hy5xg58-3p-"
   },
   "source": [
    "## Initialisation"
   ]
  },
  {
   "cell_type": "markdown",
   "metadata": {
    "id": "Wk8lNPXQz7L6",
    "colab_type": "text"
   },
   "source": [
    "Be sure to set ```IMAGE_PATH``` to the name of the image file (in the example, ```example.png```) and ```MODEL_PATH``` to the same value than ```weightFileName```. If you want to save the results in files ```saveResults``` should be checked. You will have to open the **Files tab** in the **vertical navigation bar on the left** to see the results appearing. Then you can save them by right-clicking on each file and save it."
   ]
  },
  {
   "cell_type": "code",
   "metadata": {
    "cellView": "both",
    "colab_type": "code",
    "id": "EMwapxaFSZIH",
    "scrolled": false,
    "colab": {}
   },
   "source": [
    "import warnings\n",
    "with warnings.catch_warnings():\n",
    "    warnings.simplefilter(\"ignore\")\n",
    "    import os\n",
    "    import sys\n",
    "    import random\n",
    "    import math\n",
    "    import re\n",
    "    import time\n",
    "    import numpy as np\n",
    "    import cv2\n",
    "    import matplotlib\n",
    "    import matplotlib.pyplot as plt\n",
    "    import json\n",
    "    from shlex import quote\n",
    "    from time import time, ctime\n",
    "    from skimage.io import imread, imsave, imshow, imread_collection, concatenate_images\n",
    "    from skimage.transform import resize\n",
    "\n",
    "    IMAGE_PATH = '' #@param {type:\"string\"}\n",
    "    import datasetDivider as div\n",
    "\n",
    "    if '.png' not in IMAGE_PATH:\n",
    "        print('Converting to png')\n",
    "        tempPath = IMAGE_PATH.split('.')[0] + '.png'\n",
    "        image = imread(IMAGE_PATH)\n",
    "        imsave(tempPath, image)\n",
    "        IMAGE_PATH = tempPath\n",
    "\n",
    "    image = cv2.imread(IMAGE_PATH)\n",
    "    height, width, _ = image.shape\n",
    "    xStarts = div.computeStartsOfInterval(width)\n",
    "    yStarts = div.computeStartsOfInterval(height)\n",
    "\n",
    "    nbDiv = div.getDivisionsCount(xStarts, yStarts)\n",
    "\n",
    "    # Path to the weight file\n",
    "    MODEL_PATH = \"mask_rcnn_nephrologie_451_50.h5\" #@param {type:\"string\"}\n",
    "    saveResults = False #@param {type:\"boolean\"}\n",
    "\n",
    "    import config\n",
    "    import utils\n",
    "    import model\n",
    "    import visualize\n",
    "\n",
    "    from config import Config\n",
    "    import utils\n",
    "    import model as modellib\n",
    "    import visualize\n",
    "    from model import log\n",
    "\n",
    "    %matplotlib inline \n",
    "\n",
    "    # Root directory of the project\n",
    "    ROOT_DIR = os.getcwd()\n",
    "\n",
    "    # Directory to save logs and trained model\n",
    "    MODEL_DIR = os.path.join(ROOT_DIR, \"logs\")\n",
    "\n",
    "    print(\"Cell done\")"
   ],
   "execution_count": 0,
   "outputs": []
  },
  {
   "cell_type": "markdown",
   "metadata": {
    "colab_type": "text",
    "id": "MpT9HgC7SZIN"
   },
   "source": [
    "## Configurations"
   ]
  },
  {
   "cell_type": "code",
   "metadata": {
    "colab_type": "code",
    "id": "jBONWUhASZIO",
    "colab": {}
   },
   "source": [
    "class CellsConfig(Config):\n",
    "    NAME = \"cells\"\n",
    "    GPU_COUNT = 1\n",
    "    IMAGES_PER_GPU = 1\n",
    "    NUM_CLASSES = 1 + 7\n",
    "    IMAGE_MIN_DIM = 1024\n",
    "    IMAGE_MAX_DIM = 1024\n",
    "    RPN_ANCHOR_SCALES = (8, 16, 64, 128, 256)\n",
    "    TRAIN_ROIS_PER_IMAGE = 800\n",
    "    STEPS_PER_EPOCH = 400\n",
    "    VALIDATION_STEPS = 50\n",
    "\n",
    "\n",
    "config = CellsConfig()"
   ],
   "execution_count": 0,
   "outputs": []
  },
  {
   "cell_type": "markdown",
   "metadata": {
    "colab_type": "text",
    "id": "7dhvNUELSZIS"
   },
   "source": [
    "## Notebook Preferences"
   ]
  },
  {
   "cell_type": "code",
   "metadata": {
    "colab_type": "code",
    "id": "sj3zh7wMSZIW",
    "colab": {}
   },
   "source": [
    "def get_ax(rows=1, cols=1, size=8):\n",
    "  return plt.subplots(rows, cols, figsize=(size*cols, size*rows), frameon=False)"
   ],
   "execution_count": 0,
   "outputs": []
  },
  {
   "cell_type": "markdown",
   "metadata": {
    "colab_type": "text",
    "id": "ldulTQXRSZI0"
   },
   "source": [
    "## Detection"
   ]
  },
  {
   "cell_type": "markdown",
   "metadata": {
    "colab_type": "text",
    "id": "EGXrGMjVDBOt"
   },
   "source": [
    "### Initialisation of the inference model and loading of weights "
   ]
  },
  {
   "cell_type": "code",
   "metadata": {
    "colab_type": "code",
    "id": "LWhUidKESZI1",
    "colab": {}
   },
   "source": [
    "class InferenceConfig(CellsConfig):\n",
    "    GPU_COUNT = 1\n",
    "    IMAGES_PER_GPU = 1\n",
    "\n",
    "inference_config = InferenceConfig()\n",
    "\n",
    "# Recreate the model in inference mode\n",
    "model = modellib.MaskRCNN(mode=\"inference\", config=inference_config, model_dir=MODEL_DIR)\n",
    "\n",
    "# Load trained weights (fill in path to trained weights here)\n",
    "assert MODEL_PATH != \"\", \"Provide path to trained weights\"\n",
    "print(\"Loading weights from \", MODEL_PATH)\n",
    "model.load_weights(MODEL_PATH, by_name=True)"
   ],
   "execution_count": 0,
   "outputs": []
  },
  {
   "cell_type": "markdown",
   "metadata": {
    "colab_type": "text",
    "id": "_Aw-MI01DRdc"
   },
   "source": [
    "### Inference"
   ]
  },
  {
   "cell_type": "code",
   "metadata": {
    "id": "ttIzF-2o_gf3",
    "colab_type": "code",
    "colab": {}
   },
   "source": [
    "_, ax = get_ax(size=16)\n",
    "ax.imshow(image)\n",
    "ax.axis('off')\n",
    "plt.show()"
   ],
   "execution_count": 0,
   "outputs": []
  },
  {
   "cell_type": "markdown",
   "metadata": {
    "colab_type": "text",
    "id": "mgSVf-PuDyl7"
   },
   "source": [
    "Detection and display of the predicted image"
   ]
  },
  {
   "cell_type": "code",
   "metadata": {
    "colab_type": "code",
    "id": "ZyAT1glESZI7",
    "scrolled": false,
    "colab": {}
   },
   "source": [
    "CELLS_CLASS_NAMES = [\"background\", \"tubule_sain\", \"tubule_atrophique\", \n",
    "                     \"nsg_complet\", \"nsg_partiel\", \"pac\", \"vaisseau\", \n",
    "                     \"artefact\"]\n",
    "image_name = IMAGE_PATH.split('.')[0]\n",
    "for divId in range(nbDiv):\n",
    "    division = div.getImageDivision(image, xStarts, yStarts, divId)\n",
    "    print('Inference {}/{}'.format(divId + 1, nbDiv))\n",
    "    results = model.detect([division])\n",
    "    r = results[0]\n",
    "    fig_, ax_ = get_ax(size=8)\n",
    "    fileName = None\n",
    "    if saveResults:\n",
    "      fileName = \"{}_{}{}\".format(image_name, '0' if divId < 10 else '', divId)\n",
    "    visualize.display_instances(division, r['rois'], r['masks'], r['class_ids'], \n",
    "                                CELLS_CLASS_NAMES, colorPerClass=True, r['scores'],\n",
    "                                figsize=None, ax=ax_, fig=fig_, fileName=fileName)"
   ],
   "execution_count": 0,
   "outputs": []
  }
 ]
}