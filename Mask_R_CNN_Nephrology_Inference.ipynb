{
 "cells": [
  {
   "cell_type": "markdown",
   "metadata": {
    "colab_type": "text",
    "id": "Dto-uOuWSZIE"
   },
   "source": [
    "# Mask R-CNN - Nephrology Inference\n",
    "This is an custom version of [Mask R-CNN - Train cell nucleus Dataset](https://colab.research.google.com/github/navidyou/Mask-RCNN-implementation-for-cell-nucleus-detection-executable-on-google-colab-/blob/master/mask_RCNN_cell_nucleus_google_colab.ipynb) for Google Colab. \n",
    "\n",
    "If using this notebook on Google Colab, GPU/TPU might not be used due to version of TensorFlow."
   ]
  },
  {
   "cell_type": "markdown",
   "metadata": {
    "colab_type": "text",
    "id": "3q6-BgK4Hit3"
   },
   "source": [
    "## Google Colab Only\n",
    "\n",
    "Execute only if using this notebook on Google Colab (installing compatible librairies and getting files needed). Errors might appear, do not worry about this."
   ]
  },
  {
   "cell_type": "code",
   "execution_count": null,
   "metadata": {},
   "outputs": [],
   "source": [
    "import sys\n",
    "IN_COLAB = 'google.colab' in sys.modules\n",
    "print(\"Executing in Google Colab\" if IN_COLAB else \"Executing locally\")"
   ]
  },
  {
   "cell_type": "code",
   "execution_count": null,
   "metadata": {
    "colab": {},
    "colab_type": "code",
    "id": "8oBHacJBHit4"
   },
   "outputs": [],
   "source": [
    "if IN_COLAB:\n",
    "    !pip install -q scipy==1.1\n",
    "    !pip install -q tensorflow==1.7\n",
    "    !pip install -q keras==2.1.6\n",
    "    GITHUB_REPO = \"https://raw.githubusercontent.com/AdrienJaugey/Custom-Mask-R-CNN-for-kidney-s-cell-recognition/master/\"\n",
    "    files = ['mrcnn/config.py', 'mrcnn/utils.py', 'mrcnn/model.py', 'mrcnn/visualize.py', 'datasetTools/datasetDivider.py',\n",
    "             'datasetTools/datasetWrapper.py']\n",
    "    for fileToDownload in files:\n",
    "        url = GITHUB_REPO + fileToDownload\n",
    "        !wget -N $url"
   ]
  },
  {
   "cell_type": "markdown",
   "metadata": {
    "colab_type": "text",
    "id": "wbSFFFAvNaEi"
   },
   "source": [
    "### Connecting to Google Drive"
   ]
  },
  {
   "cell_type": "markdown",
   "metadata": {
    "colab_type": "text",
    "id": "GYwuwAxzplbJ"
   },
   "source": [
    "The first time this cell is executed, a link should appear, asking you to accept to give access to files of a google account. \n",
    "1.   **Follow the link**;\n",
    "2.   **Choose the account** you want to link;\n",
    "3.   **Accept**;\n",
    "4.   **Copy the key** Google gave you;\n",
    "5.   **Paste the key in the text field** that appeared below the first link you used,\n",
    "6.   **Press ENTER**."
   ]
  },
  {
   "cell_type": "code",
   "execution_count": null,
   "metadata": {
    "colab": {},
    "colab_type": "code",
    "id": "mz6TCpuyNg-H"
   },
   "outputs": [],
   "source": [
    "if IN_COLAB:\n",
    "    from google.colab import drive\n",
    "    drive.mount('/content/drive')"
   ]
  },
  {
   "cell_type": "markdown",
   "metadata": {
    "colab_type": "text",
    "id": "BJcHCUUkLXW_"
   },
   "source": [
    "###Retrieving your image"
   ]
  },
  {
   "cell_type": "markdown",
   "metadata": {
    "colab_type": "text",
    "id": "pNbQJr9OrFKd"
   },
   "source": [
    "Choose how to get your image from the following list on the right   \n",
    "Use ```.jp2``` or ```.png``` images only !\n"
   ]
  },
  {
   "cell_type": "code",
   "execution_count": null,
   "metadata": {
    "colab": {},
    "colab_type": "code",
    "id": "dLJfs3vx45kF"
   },
   "outputs": [],
   "source": [
    "if IN_COLAB:\n",
    "    howToGetImage = \"From Google Drive\" #@param [\"Upload\", \"From Google Drive\"]"
   ]
  },
  {
   "cell_type": "markdown",
   "metadata": {
    "colab_type": "text",
    "id": "QM47OP_BZEs2"
   },
   "source": [
    "#### By upload"
   ]
  },
  {
   "cell_type": "code",
   "execution_count": null,
   "metadata": {
    "colab": {},
    "colab_type": "code",
    "id": "AR3uN68SKfgj"
   },
   "outputs": [],
   "source": [
    "if IN_COLAB and howToGetImage == \"Upload\":\n",
    "    print(\"Please upload the image you want to run the inference on\")\n",
    "    from google.colab import files\n",
    "    src = list(files.upload().values())[0]"
   ]
  },
  {
   "cell_type": "markdown",
   "metadata": {
    "colab_type": "text",
    "id": "_0-0cbIWY8bo"
   },
   "source": [
    "#### By copy from Google Drive"
   ]
  },
  {
   "cell_type": "markdown",
   "metadata": {
    "colab_type": "text",
    "id": "pqWQ-IpWtDwo"
   },
   "source": [
    "Be sure to customize the 2 variables for Google Colab to be able find your file in Google Drive.\n",
    "Let's say you have this hierarchy in your Google Drive:\n",
    "```\n",
    "Root directory of Google Drive\n",
    "  ├─── Directory1\n",
    "  └─── Directory2\n",
    "       ├─── images\n",
    "       │    └─── example.png\n",
    "       └─── saved_weights\n",
    "            └─── weights.h5\n",
    "```\n",
    "1.   ```customPathInDrive``` must represent all the directories between the root directory and your weights file. In the example, it would be ```Directory2/images/```. **Do not forget the final /** if you have to use this variable;\n",
    "2.   ```imageFileName``` must represent the file you want to upload. In the example, it would be ```example.png```.\n",
    "\n",
    "Use the text fields available on the right."
   ]
  },
  {
   "cell_type": "code",
   "execution_count": null,
   "metadata": {
    "colab": {},
    "colab_type": "code",
    "id": "PgLtCKzicGR_"
   },
   "outputs": [],
   "source": [
    "if IN_COLAB and howToGetImage == \"From Google Drive\":\n",
    "    pathToDrive = \"'/content/drive/My Drive/\"\n",
    "    # Keep customPathInDrive empty if file directly in root directory of Google Drive\n",
    "    customPathInDrive = \"\" #@param {type:\"string\"}\n",
    "    imageFileName = \"\" #@param {type:\"string\"}\n",
    "    annotationsFile = True #@param {type:\"boolean\"}\n",
    "\n",
    "    pathToImage = pathToDrive + customPathInDrive + imageFileName + \"'\"\n",
    "    print(\"Copying {} to {}\".format(pathToImage, imageFileName))\n",
    "    !cp -u $pathToImage $imageFileName\n",
    "\n",
    "    if annotationsFile:\n",
    "        annotationsFileName = imageFileName.split('.')[0] + '.xml'\n",
    "        pathToAnnotations = pathToDrive + customPathInDrive + annotationsFileName + \"'\"\n",
    "        print(\"Copying {} to {}\".format(pathToAnnotations, annotationsFileName))\n",
    "        !cp -u $pathToAnnotations $annotationsFileName"
   ]
  },
  {
   "cell_type": "markdown",
   "metadata": {
    "colab_type": "text",
    "id": "blk_Q7PycM68"
   },
   "source": [
    "### Retrieving Weights File"
   ]
  },
  {
   "cell_type": "markdown",
   "metadata": {
    "colab_type": "text",
    "id": "UU5PSzKey9JQ"
   },
   "source": [
    "Same thing than retrieving an image file using Google Drive but it is the saved weights file (```.h5``` extension). With the past example, it would be ```Directory2/saved_weights/``` as ```customPathInDrive``` and ```weights.h5``` as ```weightFileName```."
   ]
  },
  {
   "cell_type": "code",
   "execution_count": null,
   "metadata": {
    "colab": {},
    "colab_type": "code",
    "id": "PbtGqkTmY7qV"
   },
   "outputs": [],
   "source": [
    "if IN_COLAB:\n",
    "    pathToDrive = \"'/content/drive/My Drive/\"\n",
    "    # Keep customPathInDrive empty if file directly in root directory of Google Drive\n",
    "    customPathInDrive = \"\" #@param {type:\"string\"}\n",
    "    weightFileName = \"mask_rcnn_nephrologie_649_100.h5\" #@param {type:\"string\"}\n",
    "    pathToWeights = pathToDrive + customPathInDrive + weightFileName + \"'\"\n",
    "    print(\"Copying {} to {}\".format(pathToWeights, weightFileName))\n",
    "    !cp -u $pathToWeights $weightFileName"
   ]
  },
  {
   "cell_type": "markdown",
   "metadata": {
    "colab_type": "text",
    "id": "9hy5xg58-3p-"
   },
   "source": [
    "## Initialisation"
   ]
  },
  {
   "cell_type": "markdown",
   "metadata": {
    "colab_type": "text",
    "id": "Wk8lNPXQz7L6"
   },
   "source": [
    "Be sure to set ```IMAGE_PATH``` to the name of the image file (in the example, ```example.png```) and ```MODEL_PATH``` to the same value than ```weightFileName```. If you want to save the results in files ```saveResults``` should be checked. You will have to open the **Files tab** in the **vertical navigation bar on the left** to see the results appearing. Then you can save them by right-clicking on each file and save it."
   ]
  },
  {
   "cell_type": "code",
   "execution_count": null,
   "metadata": {
    "colab": {},
    "colab_type": "code",
    "id": "P2k_1lGdg8_i"
   },
   "outputs": [],
   "source": [
    "IMAGE_PATH = \"\" #@param {type:\"string\"}\n",
    "MODEL_PATH = \"mask_rcnn_nephrologie_753_100.h5\" #@param {type:\"string\"}\n",
    "DIVISION_SIZE = 1024 #@param {type:\"slider\", min:896, max:1024, step:1}\n",
    "saveResults = True #@param {type:\"boolean\"}\n",
    "CELLS_CLASS_NAMES = [\"tubule_sain\", \"tubule_atrophique\", \"nsg_complet\", \"nsg_partiel\", \"pac\", \"vaisseau\",\n",
    "                     \"artefact\", \"veine\"]\n",
    "\n",
    "# Following variables are used to fuse overlapping masks of the same class\n",
    "# These thresholds determine the least part represented by the overlapping area\n",
    "# of bounding boxes or masks to determine whether or not we should fuse two masks\n",
    "FUSION_BB_THRESHOLD = 0.1 #@param {type:\"slider\", min:0, max:1, step:0.01}\n",
    "FUSION_MASK_THRESHOLD = 0.1 #@param {type:\"slider\", min:0, max:1, step:0.01}\n",
    "\n",
    "# Following variables are used to filter the masks before displaying results\n",
    "# Same thing than fusion thresholds but for removing masks\n",
    "FILTER_BB_THRESHOLD = 0.5 #@param {type:\"slider\", min:0, max:1, step:0.01}\n",
    "FILTER_MASK_THRESHOLD = 0.9 #@param {type:\"slider\", min:0, max:1, step:0.01}\n",
    "# Rows and columns correspond to classes in the same order than the CELLS_CLASS_NAMES array\n",
    "# An element set to true means that a mask of the column class, if contained by a mask of the\n",
    "# row class, will be erased.\n",
    "PRIORITY_TABLE = [[False, False, False, False, False, False, False, False],\n",
    "                  [False, False, False, False, False, False, False, False],\n",
    "                  [True,  True,  False, False, True,  True,  False, True],\n",
    "                  [True,  True,  False, False, True,  True,  False, True],\n",
    "                  [True,  True,  False, False, False, False, False, False],\n",
    "                  [True,  True,  False, False, False, False, False, False],\n",
    "                  [False, False, False, False, False, False, False, False],\n",
    "                  [True,  True,  False, False, False, False, False, False]]"
   ]
  },
  {
   "cell_type": "code",
   "execution_count": null,
   "metadata": {
    "cellView": "both",
    "colab": {},
    "colab_type": "code",
    "id": "EMwapxaFSZIH",
    "scrolled": false
   },
   "outputs": [],
   "source": [
    "import warnings\n",
    "with warnings.catch_warnings():\n",
    "    warnings.simplefilter(\"ignore\")\n",
    "    import os\n",
    "    import sys\n",
    "    import random\n",
    "    import math\n",
    "    import re\n",
    "    import time\n",
    "    import numpy as np\n",
    "    import cv2\n",
    "    import matplotlib\n",
    "    import matplotlib.pyplot as plt\n",
    "    import json\n",
    "    from shlex import quote\n",
    "    from time import time, ctime\n",
    "    from skimage.io import imread, imsave, imshow, imread_collection, concatenate_images\n",
    "    from skimage.transform import resize\n",
    "\n",
    "    \n",
    "    IMAGE_NAME = IMAGE_PATH.split('.')[0]\n",
    "    import datasetDivider as div\n",
    "\n",
    "    if '.png' not in IMAGE_PATH:\n",
    "        print('Converting to png')\n",
    "        tempPath = IMAGE_NAME + '.png'\n",
    "        image = imread(IMAGE_PATH)\n",
    "        imsave(tempPath, image)\n",
    "        IMAGE_PATH = tempPath\n",
    "\n",
    "    image = cv2.imread(IMAGE_PATH)\n",
    "    image = cv2.cvtColor(image, cv2.COLOR_BGR2RGB)\n",
    "    height, width, _ = image.shape\n",
    "    xStarts = div.computeStartsOfInterval(width)\n",
    "    yStarts = div.computeStartsOfInterval(height)\n",
    "\n",
    "    nbDiv = div.getDivisionsCount(xStarts, yStarts)\n",
    "\n",
    "    NB_CLASS = len(CELLS_CLASS_NAMES)\n",
    "\n",
    "    COMPLETE_RESULTS = os.path.exists(IMAGE_NAME + '.xml')\n",
    "\n",
    "    import config\n",
    "    import utils\n",
    "    import model\n",
    "    import visualize\n",
    "\n",
    "    from config import Config\n",
    "    import utils\n",
    "    import model as modellib\n",
    "    import visualize\n",
    "    from model import log\n",
    "\n",
    "    %matplotlib inline \n",
    "\n",
    "    # Root directory of the project\n",
    "    ROOT_DIR = os.getcwd()\n",
    "\n",
    "    # Directory to save logs and trained model\n",
    "    MODEL_DIR = os.path.join(ROOT_DIR, \"logs\")\n",
    "\n",
    "    print(\"Cell done\")"
   ]
  },
  {
   "cell_type": "markdown",
   "metadata": {
    "colab_type": "text",
    "id": "tNCnKOf8g8_q"
   },
   "source": [
    "## Creating masks if annotations file found"
   ]
  },
  {
   "cell_type": "code",
   "execution_count": null,
   "metadata": {
    "colab": {},
    "colab_type": "code",
    "id": "EgVq11_4g8_r",
    "pycharm": {
     "name": "#%%\n"
    }
   },
   "outputs": [],
   "source": [
    "if COMPLETE_RESULTS:\n",
    "    import datasetWrapper as wr\n",
    "    wr.createMasksOfImage('.', IMAGE_NAME, 'data')"
   ]
  },
  {
   "cell_type": "markdown",
   "metadata": {
    "colab_type": "text",
    "id": "MpT9HgC7SZIN"
   },
   "source": [
    "## Configurations"
   ]
  },
  {
   "cell_type": "code",
   "execution_count": null,
   "metadata": {
    "colab": {},
    "colab_type": "code",
    "id": "jBONWUhASZIO"
   },
   "outputs": [],
   "source": [
    "class CellsConfig(Config):\n",
    "    NAME = \"cells\"\n",
    "    GPU_COUNT = 1\n",
    "    IMAGES_PER_GPU = 1\n",
    "    NUM_CLASSES = 1 + NB_CLASS\n",
    "    IMAGE_MIN_DIM = DIVISION_SIZE\n",
    "    IMAGE_MAX_DIM = DIVISION_SIZE\n",
    "    RPN_ANCHOR_SCALES = (8, 16, 64, 128, 256)\n",
    "    TRAIN_ROIS_PER_IMAGE = 800\n",
    "    STEPS_PER_EPOCH = 400\n",
    "    VALIDATION_STEPS = 50\n",
    "\n",
    "\n",
    "config = CellsConfig()"
   ]
  },
  {
   "cell_type": "markdown",
   "metadata": {
    "colab_type": "text",
    "id": "7dhvNUELSZIS"
   },
   "source": [
    "## Notebook Preferences"
   ]
  },
  {
   "cell_type": "code",
   "execution_count": null,
   "metadata": {
    "colab": {},
    "colab_type": "code",
    "id": "sj3zh7wMSZIW"
   },
   "outputs": [],
   "source": [
    "def get_ax(rows=1, cols=1, size=8):\n",
    "    return plt.subplots(rows, cols, figsize=(size*cols, size*rows), frameon=False)"
   ]
  },
  {
   "cell_type": "code",
   "execution_count": null,
   "metadata": {
    "colab": {},
    "colab_type": "code",
    "id": "OXofahcxg8_4",
    "pycharm": {
     "name": "#%%\n"
    }
   },
   "outputs": [],
   "source": [
    "if COMPLETE_RESULTS:\n",
    "    class LightCellsDataset(utils.Dataset):\n",
    "        __CELLS_CLASS_NAMES = CELLS_CLASS_NAMES.copy()\n",
    "\n",
    "        def get_class_names(self):\n",
    "            return self.__CELLS_CLASS_NAMES.copy()\n",
    "\n",
    "        def load_cells(self):\n",
    "            # Add classes\n",
    "            for class_id, class_name in enumerate(self.__CELLS_CLASS_NAMES):\n",
    "                self.add_class(\"cells\", class_id + 1, class_name)\n",
    "\n",
    "            img_path = 'data/' + IMAGE_NAME + '/images/'\n",
    "            self.add_image(\"cells\", image_id=IMAGE_NAME, path=img_path)\n",
    "\n",
    "        def load_image(self, image_id):\n",
    "\n",
    "            info = self.image_info[image_id]\n",
    "            info = info.get(\"id\")\n",
    "\n",
    "            img = imread('data/' + info + '/images/' + info + '.png')[:, :, :3]\n",
    "\n",
    "            return img\n",
    "\n",
    "        def image_reference(self, image_id):\n",
    "            \"\"\"Return the cells data of the image.\"\"\"\n",
    "            info = self.image_info[image_id]\n",
    "            if info[\"source\"] == \"cells\":\n",
    "                return info[\"cells\"]\n",
    "            else:\n",
    "                super(self.__class__).image_reference(self, image_id)\n",
    "\n",
    "        def load_mask(self, image_id):\n",
    "            \"\"\"Generate instance masks for cells of the given image ID.\n",
    "            \"\"\"\n",
    "            info = self.image_info[image_id]\n",
    "            info = info.get(\"id\")\n",
    "\n",
    "            path = 'data/' + info\n",
    "\n",
    "            # Counting masks for current image\n",
    "            number_of_masks = 0\n",
    "            for masks_dir in os.listdir(path):\n",
    "                # For each directory excepting /images\n",
    "                if masks_dir not in self.__CELLS_CLASS_NAMES:\n",
    "                    continue\n",
    "                temp_DIR = path + '/' + masks_dir\n",
    "                # Adding length of directory https://stackoverflow.com/questions/2632205/how-to-count-the-number-of-files-in-a-directory-using-python\n",
    "                number_of_masks += len(\n",
    "                    [name for name in os.listdir(temp_DIR) if os.path.isfile(os.path.join(temp_DIR, name))])\n",
    "\n",
    "            mask = np.zeros([height, width, number_of_masks], dtype=np.uint8)\n",
    "            iterator = 0\n",
    "            class_ids = np.zeros((number_of_masks,), dtype=int)\n",
    "            for masks_dir in os.listdir(path):\n",
    "                if masks_dir not in self.__CELLS_CLASS_NAMES:\n",
    "                    continue\n",
    "                temp_class_id = self.__CELLS_CLASS_NAMES.index(masks_dir) + 1\n",
    "                for mask_file in next(os.walk(path + '/' + masks_dir + '/'))[2]:\n",
    "                    mask_ = imread(path + '/' + masks_dir + '/' + mask_file)\n",
    "                    mask[:, :, iterator] = mask_\n",
    "                    class_ids[iterator] = temp_class_id\n",
    "                    iterator += 1\n",
    "            # Handle occlusions\n",
    "            occlusion = np.logical_not(mask[:, :, -1]).astype(np.uint8)\n",
    "            for i in range(number_of_masks - 2, -1, -1):\n",
    "                mask[:, :, i] = mask[:, :, i] * occlusion\n",
    "                occlusion = np.logical_and(occlusion, np.logical_not(mask[:, :, i]))\n",
    "            return mask, class_ids.astype(np.int32)"
   ]
  },
  {
   "cell_type": "code",
   "execution_count": null,
   "metadata": {
    "colab": {},
    "colab_type": "code",
    "id": "5AnW6aeFg8_9",
    "pycharm": {
     "name": "#%%\n"
    }
   },
   "outputs": [],
   "source": [
    "if COMPLETE_RESULTS:\n",
    "    dataset_val = LightCellsDataset()\n",
    "    dataset_val.load_cells()\n",
    "    dataset_val.prepare()"
   ]
  },
  {
   "cell_type": "markdown",
   "metadata": {
    "colab_type": "text",
    "id": "ldulTQXRSZI0"
   },
   "source": [
    "## Detection"
   ]
  },
  {
   "cell_type": "markdown",
   "metadata": {
    "colab_type": "text",
    "id": "EGXrGMjVDBOt"
   },
   "source": [
    "### Initialisation of the inference model and loading of weights "
   ]
  },
  {
   "cell_type": "code",
   "execution_count": null,
   "metadata": {
    "colab": {},
    "colab_type": "code",
    "id": "LWhUidKESZI1"
   },
   "outputs": [],
   "source": [
    "class InferenceConfig(CellsConfig):\n",
    "    GPU_COUNT = 1\n",
    "    IMAGES_PER_GPU = 1\n",
    "\n",
    "inference_config = InferenceConfig()\n",
    "\n",
    "# Recreate the model in inference mode\n",
    "model = modellib.MaskRCNN(mode=\"inference\", config=inference_config, model_dir=MODEL_DIR)\n",
    "\n",
    "# Load trained weights (fill in path to trained weights here)\n",
    "assert MODEL_PATH != \"\", \"Provide path to trained weights\"\n",
    "print(\"Loading weights from \", MODEL_PATH)\n",
    "model.load_weights(MODEL_PATH, by_name=True)"
   ]
  },
  {
   "cell_type": "markdown",
   "metadata": {
    "colab_type": "text",
    "id": "_Aw-MI01DRdc"
   },
   "source": [
    "### Inference"
   ]
  },
  {
   "cell_type": "markdown",
   "metadata": {
    "colab_type": "text",
    "id": "Uyk1jXfZg9AG"
   },
   "source": [
    "#### Display of the Input Image"
   ]
  },
  {
   "cell_type": "code",
   "execution_count": null,
   "metadata": {
    "colab": {},
    "colab_type": "code",
    "id": "ttIzF-2o_gf3"
   },
   "outputs": [],
   "source": [
    "if COMPLETE_RESULTS:\n",
    "    fileName = None\n",
    "    if saveResults:\n",
    "        fileName = \"{} Expected\".format(IMAGE_NAME)\n",
    "    image_id = dataset_val.image_ids[0]\n",
    "    gt_mask, gt_class_id = dataset_val.load_mask(image_id)\n",
    "    gt_bbox = utils.extract_bboxes(gt_mask)\n",
    "    \n",
    "    visualize.display_instances(image, gt_bbox, gt_mask, gt_class_id, dataset_val.class_names,\n",
    "                                colorPerClass=True, figsize=(width / 100, height / 100),\n",
    "                                title=\"{} Expected\".format(IMAGE_NAME),\n",
    "                                fileName=\"{} Expected\".format(IMAGE_NAME))\n",
    "else:\n",
    "    _, ax = get_ax(size=16)\n",
    "    ax.imshow(image)\n",
    "    ax.axis('off')\n",
    "    plt.show()"
   ]
  },
  {
   "cell_type": "markdown",
   "metadata": {
    "colab_type": "text",
    "id": "mgSVf-PuDyl7"
   },
   "source": [
    "#### Getting predictions for each division"
   ]
  },
  {
   "cell_type": "code",
   "execution_count": null,
   "metadata": {
    "colab": {},
    "colab_type": "code",
    "id": "ZyAT1glESZI7",
    "scrolled": false
   },
   "outputs": [],
   "source": [
    "res = []\n",
    "for divId in range(nbDiv):\n",
    "    division = div.getImageDivision(image, xStarts, yStarts, divId)\n",
    "    print('Inference {}/{}'.format(divId + 1, nbDiv))\n",
    "    results = model.detect([division])\n",
    "    res.append(results[0])"
   ]
  },
  {
   "cell_type": "markdown",
   "metadata": {
    "colab_type": "text",
    "id": "V2ESxyrpg9AP"
   },
   "source": [
    "#### Post-processing of the predictions"
   ]
  },
  {
   "cell_type": "code",
   "execution_count": null,
   "metadata": {
    "colab": {},
    "colab_type": "code",
    "id": "Qigy0w7xg9AP"
   },
   "outputs": [],
   "source": [
    "print(\"Fusing results of all divisions\")\n",
    "fused_results = utils.fuse_results(res, image)\n",
    "print(\"Results fused\")"
   ]
  },
  {
   "cell_type": "code",
   "execution_count": null,
   "metadata": {
    "colab": {},
    "colab_type": "code",
    "id": "x9l70PACg9AR",
    "scrolled": true
   },
   "outputs": [],
   "source": [
    "print(\"Fusing overlapping masks\")\n",
    "fused_mask = utils.fuse_masks(fused_results, \n",
    "                              bb_threshold=FUSION_BB_THRESHOLD,\n",
    "                              mask_threshold=FUSION_MASK_THRESHOLD,\n",
    "                              verbose=1)\n",
    "print(\"Masks fused\")"
   ]
  },
  {
   "cell_type": "code",
   "execution_count": null,
   "metadata": {
    "colab": {},
    "colab_type": "code",
    "id": "KEZPPSKYg9AU"
   },
   "outputs": [],
   "source": [
    "print(\"Removing non-sense masks\")\n",
    "filtered_masks = utils.filter_fused_masks(fused_mask, \n",
    "                                          bb_threshold=FILTER_BB_THRESHOLD,\n",
    "                                          mask_threshold=FILTER_MASK_THRESHOLD,\n",
    "                                          priority_table=PRIORITY_TABLE)\n",
    "print(\"Masks filtered\")"
   ]
  },
  {
   "cell_type": "code",
   "execution_count": null,
   "metadata": {
    "colab": {},
    "colab_type": "code",
    "id": "myQAbzsRg9Ad"
   },
   "outputs": [],
   "source": [
    "if COMPLETE_RESULTS:\n",
    "    gt_mask, gt_class_id = dataset_val.load_mask(image_id)\n",
    "    AP, precisions, recalls, overlaps, confusion_matrix = utils.compute_ap(\n",
    "        gt_bbox, gt_class_id, gt_mask,\n",
    "        filtered_masks[\"rois\"], filtered_masks[\"class_ids\"], filtered_masks[\"scores\"], filtered_masks['masks'],\n",
    "        nb_class=NB_CLASS, confusion_iou_threshold=0.1)\n",
    "    \n",
    "    print(\"Average Precision is about {:5.2f}%\".format(AP * 100))\n",
    "\n",
    "    name = \"{} Confusion Matrix\".format(IMAGE_NAME)\n",
    "    name2 = \"{} Normalized Confusion Matrix\".format(IMAGE_NAME)\n",
    "    cmap = plt.cm.get_cmap('hot')\n",
    "    visualize.display_confusion_matrix(confusion_matrix, dataset_val.get_class_names(), title=name,\n",
    "                                       cmap=cmap, show=False, fileName=name)\n",
    "    visualize.display_confusion_matrix(confusion_matrix, dataset_val.get_class_names(), title=name2,\n",
    "                                       cmap=cmap, show=False, normalize=True, fileName=name2)"
   ]
  },
  {
   "cell_type": "code",
   "execution_count": null,
   "metadata": {
    "colab": {},
    "colab_type": "code",
    "id": "ekJrg5wbg9Aa",
    "pycharm": {
     "name": "#%%\n"
    },
    "scrolled": false
   },
   "outputs": [],
   "source": [
    "print(\"Displaying results\")\n",
    "\n",
    "fileName = None\n",
    "if saveResults:\n",
    "    fileName = \"{} Predicted\".format(IMAGE_NAME)\n",
    "names = CELLS_CLASS_NAMES.copy()\n",
    "names.insert(0, 'background')\n",
    "_ = visualize.display_instances(image, filtered_masks['rois'], filtered_masks['masks'], filtered_masks['class_ids'], \n",
    "                                names, filtered_masks['scores'], colorPerClass=True,\n",
    "                                figsize=(width / 100, height / 100), \n",
    "                                fileName=fileName, onlyImage=True)"
   ]
  }
 ],
 "metadata": {
  "celltoolbar": "Format de la Cellule Texte Brut",
  "colab": {
   "collapsed_sections": [],
   "name": "Mask_R_CNN_Nephrology_Inference2.ipynb",
   "private_outputs": true,
   "provenance": [],
   "toc_visible": true
  },
  "kernelspec": {
   "display_name": "Python 3",
   "language": "python",
   "name": "python3"
  },
  "language_info": {
   "codemirror_mode": {
    "name": "ipython",
    "version": 3
   },
   "file_extension": ".py",
   "mimetype": "text/x-python",
   "name": "python",
   "nbconvert_exporter": "python",
   "pygments_lexer": "ipython3",
   "version": "3.5.6"
  }
 },
 "nbformat": 4,
 "nbformat_minor": 1
}
