{
 "cells": [
  {
   "cell_type": "markdown",
   "metadata": {
    "colab_type": "text",
    "id": "Dto-uOuWSZIE"
   },
   "source": [
    "# Mask R-CNN - Nephrology Inference\n",
    "This is an custom version of [Mask R-CNN - Train cell nucleus Dataset](https://colab.research.google.com/github/navidyou/Mask-RCNN-implementation-for-cell-nucleus-detection-executable-on-google-colab-/blob/master/mask_RCNN_cell_nucleus_google_colab.ipynb) for Google Colab. \n",
    "\n",
    "If using this notebook on Google Colab, GPU/TPU might not be used due to version of TensorFlow."
   ]
  },
  {
   "cell_type": "markdown",
   "metadata": {
    "colab_type": "text",
    "id": "3q6-BgK4Hit3"
   },
   "source": [
    "## Google Colab Only\n",
    "\n",
    "Execute only if using this notebook on Google Colab (installing compatible librairies and getting files needed). Errors might appear, do not worry about this."
   ]
  },
  {
   "cell_type": "code",
   "execution_count": null,
   "metadata": {
    "colab": {},
    "colab_type": "code",
    "id": "8oBHacJBHit4"
   },
   "outputs": [],
   "source": [
    "!pip install -q scipy==1.1\n",
    "!pip install -q tensorflow==1.7\n",
    "!pip install -q keras==2.1.6\n",
    "GITHUB_REPO = \"https://raw.githubusercontent.com/AdrienJaugey/Custom-Mask-R-CNN-for-kidney-s-cell-recognition/master/\"\n",
    "files = ['mrcnn/config.py', 'mrcnn/utils.py', 'mrcnn/model.py', 'mrcnn/visualize.py', 'datasetTools/datasetDivider.py']\n",
    "for fileToDownload in files:\n",
    "  url = GITHUB_REPO + fileToDownload\n",
    "  !wget -N $url"
   ]
  },
  {
   "cell_type": "markdown",
   "metadata": {
    "colab_type": "text",
    "id": "wbSFFFAvNaEi"
   },
   "source": [
    "### Connecting to Google Drive"
   ]
  },
  {
   "cell_type": "markdown",
   "metadata": {
    "colab_type": "text",
    "id": "GYwuwAxzplbJ"
   },
   "source": [
    "The first time this cell is executed, a link should appear, asking you to accept to give access to files of a google account. \n",
    "1.   **Follow the link**;\n",
    "2.   **Choose the account** you want to link;\n",
    "3.   **Accept**;\n",
    "4.   **Copy the key** Google gave you;\n",
    "5.   **Paste the key in the text field** that appeared below the first link you used,\n",
    "6.   **Press ENTER**."
   ]
  },
  {
   "cell_type": "code",
   "execution_count": null,
   "metadata": {
    "colab": {},
    "colab_type": "code",
    "id": "mz6TCpuyNg-H"
   },
   "outputs": [],
   "source": [
    "from google.colab import drive\n",
    "drive.mount('/content/drive')"
   ]
  },
  {
   "cell_type": "markdown",
   "metadata": {
    "colab_type": "text",
    "id": "BJcHCUUkLXW_"
   },
   "source": [
    "###Retrieving your image"
   ]
  },
  {
   "cell_type": "markdown",
   "metadata": {
    "colab_type": "text",
    "id": "pNbQJr9OrFKd"
   },
   "source": [
    "Choose how to get your image from the following list on the right   \n",
    "Use ```.jp2``` or ```.png``` images only !\n"
   ]
  },
  {
   "cell_type": "code",
   "execution_count": null,
   "metadata": {
    "colab": {},
    "colab_type": "code",
    "id": "dLJfs3vx45kF"
   },
   "outputs": [],
   "source": [
    "howToGetImage = \"Upload\" #@param [\"Upload\", \"From Google Drive\"]"
   ]
  },
  {
   "cell_type": "markdown",
   "metadata": {
    "colab_type": "text",
    "id": "QM47OP_BZEs2"
   },
   "source": [
    "#### By upload"
   ]
  },
  {
   "cell_type": "code",
   "execution_count": null,
   "metadata": {
    "colab": {},
    "colab_type": "code",
    "id": "AR3uN68SKfgj"
   },
   "outputs": [],
   "source": [
    "if howToGetImage == \"Upload\":\n",
    "  print(\"Please upload the image you want to run the inference on\")\n",
    "  from google.colab import files\n",
    "  src = list(files.upload().values())[0]"
   ]
  },
  {
   "cell_type": "markdown",
   "metadata": {
    "colab_type": "text",
    "id": "_0-0cbIWY8bo"
   },
   "source": [
    "#### By copy from Google Drive"
   ]
  },
  {
   "cell_type": "markdown",
   "metadata": {
    "colab_type": "text",
    "id": "pqWQ-IpWtDwo"
   },
   "source": [
    "Be sure to customize the 2 variables for Google Colab to be able find your file in Google Drive.\n",
    "Let's say you have this hierarchy in your Google Drive:\n",
    "```\n",
    "Root directory of Google Drive\n",
    "  ├─── Directory1\n",
    "  └─── Directory2\n",
    "       ├─── images\n",
    "       │    └─── example.png\n",
    "       └─── saved_weights\n",
    "            └─── weights.h5\n",
    "```\n",
    "1.   ```customPathInDrive``` must represent all the directories between the root directory and your weights file. In the example, it would be ```Directory2/images/```. **Do not forget the final /** if you have to use this variable;\n",
    "2.   ```imageFileName``` must represent the file you want to upload. In the example, it would be ```example.png```.\n",
    "\n",
    "Use the text fields available on the right."
   ]
  },
  {
   "cell_type": "code",
   "execution_count": null,
   "metadata": {
    "colab": {},
    "colab_type": "code",
    "id": "PgLtCKzicGR_"
   },
   "outputs": [],
   "source": [
    "if howToGetImage == \"From Google Drive\":\n",
    "  pathToDrive = \"'/content/drive/My Drive/\"\n",
    "  # Keep customPathInDrive empty if file directly in root directory of Google Drive\n",
    "  customPathInDrive = \"\" #@param {type:\"string\"}\n",
    "  imageFileName = \"\" #@param {type:\"string\"}\n",
    "  pathToImage = pathToDrive + customPathInDrive + imageFileName + \"'\"\n",
    "  print(\"Copying {} to {}\".format(pathToImage, imageFileName))\n",
    "  !cp -u $pathToImage $imageFileName"
   ]
  },
  {
   "cell_type": "markdown",
   "metadata": {
    "colab_type": "text",
    "id": "blk_Q7PycM68"
   },
   "source": [
    "### Retrieving Weights File"
   ]
  },
  {
   "cell_type": "markdown",
   "metadata": {
    "colab_type": "text",
    "id": "UU5PSzKey9JQ"
   },
   "source": [
    "Same thing than retrieving an image file using Google Drive but it is the saved weights file (```.h5``` extension). With the past example, it would be ```Directory2/saved_weights/``` as ```customPathInDrive``` and ```weights.h5``` as ```weightFileName```."
   ]
  },
  {
   "cell_type": "code",
   "execution_count": null,
   "metadata": {
    "colab": {},
    "colab_type": "code",
    "id": "PbtGqkTmY7qV"
   },
   "outputs": [],
   "source": [
    "pathToDrive = \"'/content/drive/My Drive/\"\n",
    "# Keep customPathInDrive empty if file directly in root directory of Google Drive\n",
    "customPathInDrive = \"\" #@param {type:\"string\"}\n",
    "weightFileName = \"mask_rcnn_nephrologie_649_100.h5\" #@param {type:\"string\"}\n",
    "pathToWeights = pathToDrive + customPathInDrive + weightFileName + \"'\"\n",
    "print(\"Copying {} to {}\".format(pathToWeights, weightFileName))\n",
    "!cp -u $pathToWeights $weightFileName"
   ]
  },
  {
   "cell_type": "markdown",
   "metadata": {
    "colab_type": "text",
    "id": "9hy5xg58-3p-"
   },
   "source": [
    "## Initialisation"
   ]
  },
  {
   "cell_type": "markdown",
   "metadata": {
    "colab_type": "text",
    "id": "Wk8lNPXQz7L6"
   },
   "source": [
    "Be sure to set ```IMAGE_PATH``` to the name of the image file (in the example, ```example.png```) and ```MODEL_PATH``` to the same value than ```weightFileName```. If you want to save the results in files ```saveResults``` should be checked. You will have to open the **Files tab** in the **vertical navigation bar on the left** to see the results appearing. Then you can save them by right-clicking on each file and save it."
   ]
  },
  {
   "cell_type": "code",
   "execution_count": null,
   "metadata": {},
   "outputs": [],
   "source": [
    "IMAGE_PATH = \"\" #@param {type:\"string\"}\n",
    "MODEL_PATH = \"mask_rcnn_nephrologie_649_100.h5\" #@param {type:\"string\"}\n",
    "DIVISION_SIZE = 1024 #@param {type:\"slider\", min:896, max:1024, step:1}\n",
    "saveResults = True #@param {type:\"boolean\"}"
   ]
  },
  {
   "cell_type": "code",
   "execution_count": null,
   "metadata": {
    "cellView": "both",
    "colab": {},
    "colab_type": "code",
    "id": "EMwapxaFSZIH",
    "scrolled": false
   },
   "outputs": [],
   "source": [
    "import warnings\n",
    "with warnings.catch_warnings():\n",
    "    warnings.simplefilter(\"ignore\")\n",
    "    import os\n",
    "    import sys\n",
    "    import random\n",
    "    import math\n",
    "    import re\n",
    "    import time\n",
    "    import numpy as np\n",
    "    import cv2\n",
    "    import matplotlib\n",
    "    import matplotlib.pyplot as plt\n",
    "    import json\n",
    "    from shlex import quote\n",
    "    from time import time, ctime\n",
    "    from skimage.io import imread, imsave, imshow, imread_collection, concatenate_images\n",
    "    from skimage.transform import resize\n",
    "\n",
    "    \n",
    "    IMAGE_NAME = IMAGE_PATH.split('.')[0]\n",
    "    import datasetDivider as div\n",
    "\n",
    "    if '.png' not in IMAGE_PATH:\n",
    "        print('Converting to png')\n",
    "        tempPath = IMAGE_NAME + '.png'\n",
    "        image = imread(IMAGE_PATH)\n",
    "        imsave(tempPath, image)\n",
    "        IMAGE_PATH = tempPath\n",
    "\n",
    "    image = cv2.imread(IMAGE_PATH)\n",
    "    image = cv2.cvtColor(image, cv2.COLOR_BGR2RGB)\n",
    "    height, width, _ = image.shape\n",
    "    xStarts = div.computeStartsOfInterval(width)\n",
    "    yStarts = div.computeStartsOfInterval(height)\n",
    "\n",
    "    nbDiv = div.getDivisionsCount(xStarts, yStarts)\n",
    "\n",
    "    import config\n",
    "    import utils\n",
    "    import model\n",
    "    import visualize\n",
    "\n",
    "    from config import Config\n",
    "    import utils\n",
    "    import model as modellib\n",
    "    import visualize\n",
    "    from model import log\n",
    "\n",
    "    %matplotlib inline \n",
    "\n",
    "    # Root directory of the project\n",
    "    ROOT_DIR = os.getcwd()\n",
    "\n",
    "    # Directory to save logs and trained model\n",
    "    MODEL_DIR = os.path.join(ROOT_DIR, \"logs\")\n",
    "\n",
    "    print(\"Cell done\")"
   ]
  },
  {
   "cell_type": "markdown",
   "metadata": {
    "colab_type": "text",
    "id": "MpT9HgC7SZIN"
   },
   "source": [
    "## Configurations"
   ]
  },
  {
   "cell_type": "code",
   "execution_count": null,
   "metadata": {
    "colab": {},
    "colab_type": "code",
    "id": "jBONWUhASZIO"
   },
   "outputs": [],
   "source": [
    "class CellsConfig(Config):\n",
    "    NAME = \"cells\"\n",
    "    GPU_COUNT = 1\n",
    "    IMAGES_PER_GPU = 1\n",
    "    NUM_CLASSES = 1 + 7\n",
    "    IMAGE_MIN_DIM = DIVISION_SIZE\n",
    "    IMAGE_MAX_DIM = DIVISION_SIZE\n",
    "    RPN_ANCHOR_SCALES = (8, 16, 64, 128, 256)\n",
    "    TRAIN_ROIS_PER_IMAGE = 800\n",
    "    STEPS_PER_EPOCH = 400\n",
    "    VALIDATION_STEPS = 50\n",
    "\n",
    "\n",
    "config = CellsConfig()"
   ]
  },
  {
   "cell_type": "markdown",
   "metadata": {
    "colab_type": "text",
    "id": "7dhvNUELSZIS"
   },
   "source": [
    "## Notebook Preferences"
   ]
  },
  {
   "cell_type": "code",
   "execution_count": null,
   "metadata": {
    "colab": {},
    "colab_type": "code",
    "id": "sj3zh7wMSZIW"
   },
   "outputs": [],
   "source": [
    "def get_ax(rows=1, cols=1, size=8):\n",
    "  return plt.subplots(rows, cols, figsize=(size*cols, size*rows), frameon=False)"
   ]
  },
  {
   "cell_type": "markdown",
   "metadata": {
    "colab_type": "text",
    "id": "ldulTQXRSZI0"
   },
   "source": [
    "## Detection"
   ]
  },
  {
   "cell_type": "markdown",
   "metadata": {
    "colab_type": "text",
    "id": "EGXrGMjVDBOt"
   },
   "source": [
    "### Initialisation of the inference model and loading of weights "
   ]
  },
  {
   "cell_type": "code",
   "execution_count": null,
   "metadata": {
    "colab": {},
    "colab_type": "code",
    "id": "LWhUidKESZI1"
   },
   "outputs": [],
   "source": [
    "class InferenceConfig(CellsConfig):\n",
    "    GPU_COUNT = 1\n",
    "    IMAGES_PER_GPU = 1\n",
    "\n",
    "inference_config = InferenceConfig()\n",
    "\n",
    "# Recreate the model in inference mode\n",
    "model = modellib.MaskRCNN(mode=\"inference\", config=inference_config, model_dir=MODEL_DIR)\n",
    "\n",
    "# Load trained weights (fill in path to trained weights here)\n",
    "assert MODEL_PATH != \"\", \"Provide path to trained weights\"\n",
    "print(\"Loading weights from \", MODEL_PATH)\n",
    "model.load_weights(MODEL_PATH, by_name=True)"
   ]
  },
  {
   "cell_type": "markdown",
   "metadata": {
    "colab_type": "text",
    "id": "_Aw-MI01DRdc"
   },
   "source": [
    "### Inference"
   ]
  },
  {
   "cell_type": "markdown",
   "metadata": {},
   "source": [
    "#### Display of the Input Image"
   ]
  },
  {
   "cell_type": "code",
   "execution_count": null,
   "metadata": {
    "colab": {},
    "colab_type": "code",
    "id": "ttIzF-2o_gf3"
   },
   "outputs": [],
   "source": [
    "_, ax = get_ax(size=16)\n",
    "ax.imshow(image)\n",
    "ax.axis('off')\n",
    "plt.show()"
   ]
  },
  {
   "cell_type": "markdown",
   "metadata": {
    "colab_type": "text",
    "id": "mgSVf-PuDyl7"
   },
   "source": [
    "#### Getting predictions for each division"
   ]
  },
  {
   "cell_type": "code",
   "execution_count": null,
   "metadata": {
    "colab": {},
    "colab_type": "code",
    "id": "ZyAT1glESZI7",
    "scrolled": false
   },
   "outputs": [],
   "source": [
    "CELLS_CLASS_NAMES = [\"background\", \"tubule_sain\", \"tubule_atrophique\", \n",
    "                     \"nsg_complet\", \"nsg_partiel\", \"pac\", \"vaisseau\", \n",
    "                     \"artefact\"]\n",
    "\n",
    "res = []\n",
    "for divId in range(nbDiv):\n",
    "    division = div.getImageDivision(image, xStarts, yStarts, divId)\n",
    "    print('Inference {}/{}'.format(divId + 1, nbDiv))\n",
    "    results = model.detect([division])\n",
    "    res.append(results[0])"
   ]
  },
  {
   "cell_type": "markdown",
   "metadata": {},
   "source": [
    "#### Post-processing of the predictions"
   ]
  },
  {
   "cell_type": "code",
   "execution_count": null,
   "metadata": {},
   "outputs": [],
   "source": [
    "print(\"Fusing results of all divisions\")\n",
    "fused_results = utils.fuse_results(res, image)\n",
    "print(\"Results fused\")"
   ]
  },
  {
   "cell_type": "code",
   "execution_count": null,
   "metadata": {
    "scrolled": true
   },
   "outputs": [],
   "source": [
    "print(\"Fusing overlapping masks\")\n",
    "fused_mask = utils.fuse_masks(fused_results, \n",
    "                              bb_threshold=0.1, mask_threshold=0.1,\n",
    "                              verbose=1)\n",
    "print(\"Masks fused\")"
   ]
  },
  {
   "cell_type": "code",
   "execution_count": null,
   "metadata": {},
   "outputs": [],
   "source": [
    "print(\"Removing non-sense masks\")\n",
    "filtered_masks = utils.filter_fused_masks(fused_mask, \n",
    "                                          bb_threshold=0.5,\n",
    "                                          vessel_threshold=0.9,\n",
    "                                          vessel_class_id=6)\n",
    "print(\"Masks filtered\")"
   ]
  },
  {
   "cell_type": "code",
   "execution_count": null,
   "metadata": {
    "scrolled": false
   },
   "outputs": [],
   "source": [
    "print(\"Displaying results\")\n",
    "\n",
    "fileName = None\n",
    "if saveResults:\n",
    "  fileName = \"{} Predicted\".format(IMAGE_NAME)\n",
    "    \n",
    "_ = visualize.display_instances(image, filtered_masks['rois'], filtered_masks['masks'], filtered_masks['class_ids'], \n",
    "                                CELLS_CLASS_NAMES, filtered_masks['scores'], colorPerClass=True, \n",
    "                                figsize=(width / 100, height / 100), \n",
    "                                fileName=fileName, onlyImage=True)"
   ]
  }
 ],
 "metadata": {
  "celltoolbar": "Format de la Cellule Texte Brut",
  "colab": {
   "collapsed_sections": [],
   "name": "Mask_R_CNN_Nephrology_Inference.ipynb",
   "private_outputs": true,
   "provenance": []
  },
  "kernelspec": {
   "display_name": "Python 3",
   "language": "python",
   "name": "python3"
  },
  "language_info": {
   "codemirror_mode": {
    "name": "ipython",
    "version": 3
   },
   "file_extension": ".py",
   "mimetype": "text/x-python",
   "name": "python",
   "nbconvert_exporter": "python",
   "pygments_lexer": "ipython3",
   "version": "3.5.6"
  }
 },
 "nbformat": 4,
 "nbformat_minor": 1
}
