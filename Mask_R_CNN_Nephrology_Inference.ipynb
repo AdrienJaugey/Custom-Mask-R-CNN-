{
 "cells": [
  {
   "cell_type": "markdown",
   "metadata": {
    "id": "X0B38hFOziWw"
   },
   "source": [
    "# Mask R-CNN - Nephrology Inference Tool\n",
    "This is an custom version of [Mask R-CNN - Train cell nucleus Dataset](https://colab.research.google.com/github/navidyou/Mask-RCNN-implementation-for-cell-nucleus-detection-executable-on-google-colab-/blob/master/mask_RCNN_cell_nucleus_google_colab.ipynb) for Google Colab. \n",
    "\n",
    "If using this notebook on Google Colab, GPU/TPU might not be used due to version of TensorFlow."
   ]
  },
  {
   "cell_type": "markdown",
   "metadata": {
    "id": "GYPfsdEKziWy"
   },
   "source": [
    "## Google Colab Only\n",
    "\n",
    "Execute only if using this notebook on Google Colab (installing compatible librairies and getting files needed). Errors might appear, do not worry about this."
   ]
  },
  {
   "cell_type": "code",
   "execution_count": null,
   "metadata": {
    "collapsed": true,
    "id": "Olya1WSyziW0",
    "pycharm": {
     "name": "#%%\n"
    }
   },
   "outputs": [],
   "source": [
    "import sys\n",
    "import os\n",
    "IN_COLAB = 'google.colab' in sys.modules\n",
    "print(\"Executing in Google Colab\" if IN_COLAB else \"Executing locally\")"
   ]
  },
  {
   "cell_type": "markdown",
   "metadata": {
    "id": "oKJFoCItziW7"
   },
   "source": [
    "### Installing compatible librairies"
   ]
  },
  {
   "cell_type": "code",
   "execution_count": null,
   "metadata": {
    "collapsed": true,
    "id": "TXQ1nDGmziW9",
    "pycharm": {
     "name": "#%%\n"
    }
   },
   "outputs": [],
   "source": [
    "if IN_COLAB:\n",
    "    %tensorflow_version 1.x"
   ]
  },
  {
   "cell_type": "markdown",
   "metadata": {
    "id": "FM0SSwW8ziXB"
   },
   "source": [
    "### Retrieving needed files\n",
    "\n",
    "You can use this cell to update the files that have been downloaded during the same session and that have been updated on GitHub."
   ]
  },
  {
   "cell_type": "code",
   "execution_count": null,
   "metadata": {
    "collapsed": true,
    "id": "sOIgtnOOziXC"
   },
   "outputs": [],
   "source": [
    "if IN_COLAB:\n",
    "    GITHUB_BRANCH = \"experimental\"\n",
    "    GITHUB_REPO = f\"https://raw.githubusercontent.com/AdrienJaugey/Custom-Mask-R-CNN-for-kidney-s-cell-recognition/{GITHUB_BRANCH}/\"\n",
    "    files = ['mrcnn/config.py', 'mrcnn/utils.py', 'mrcnn/model.py', 'mrcnn/compat.py', \n",
    "             'mrcnn/visualize.py', 'mrcnn/post_processing.py', 'datasetTools/datasetDivider.py',\n",
    "             'datasetTools/datasetWrapper.py', 'datasetTools/AnnotationAdapter.py',\n",
    "             'datasetTools/ASAPAdapter.py', 'datasetTools/LabelMeAdapter.py', 'nephrology.py', 'common_utils.py']\n",
    "    for fileToDownload in files:\n",
    "        url = GITHUB_REPO + fileToDownload\n",
    "        !wget -qN $url\n",
    "        if '/' in fileToDownload:\n",
    "            os.makedirs(os.path.dirname(fileToDownload), exist_ok=True)\n",
    "            fileName = os.path.basename(fileToDownload)\n",
    "            !mv $fileName $fileToDownload"
   ]
  },
  {
   "cell_type": "markdown",
   "metadata": {
    "id": "N-AwLzVYziXH"
   },
   "source": [
    "### Connecting to Google Drive"
   ]
  },
  {
   "cell_type": "markdown",
   "metadata": {
    "id": "qXap_YGcziXH"
   },
   "source": [
    "The first time this cell is executed, a link should appear, asking you to accept to give access to files of a google account. \n",
    "1.   **Follow the link**;\n",
    "2.   **Choose the account** you want to link;\n",
    "3.   **Accept**;\n",
    "4.   **Copy the key** Google gave you;\n",
    "5.   **Paste the key in the text field** that appeared below the first link you used,\n",
    "6.   **Press ENTER**."
   ]
  },
  {
   "cell_type": "code",
   "execution_count": null,
   "metadata": {
    "collapsed": true,
    "id": "MF5o7F5wziXI",
    "pycharm": {
     "name": "#%%\n"
    }
   },
   "outputs": [],
   "source": [
    "if IN_COLAB:\n",
    "    from google.colab import drive\n",
    "    drive.mount('/content/drive')\n",
    "    import shutil\n",
    "    shutil.rmtree('sample_data/', ignore_errors=True)"
   ]
  },
  {
   "cell_type": "markdown",
   "metadata": {
    "id": "HmIsJ02KziXN"
   },
   "source": [
    "### Retrieving your image(s)"
   ]
  },
  {
   "cell_type": "markdown",
   "metadata": {
    "id": "--OZ_F2-ziXN"
   },
   "source": [
    "Choose how to get your image(s) from the following list on the right   \n",
    "Use ```.jp2```, ```.jpg``` or ```.png``` images only !\n"
   ]
  },
  {
   "cell_type": "code",
   "execution_count": null,
   "metadata": {
    "collapsed": true,
    "id": "pJf8ln57ziXO",
    "pycharm": {
     "name": "#%%\n"
    }
   },
   "outputs": [],
   "source": [
    "if IN_COLAB:\n",
    "    howToGetImage = \"From Google Drive\" #@param [\"Upload\", \"From Google Drive\"]"
   ]
  },
  {
   "cell_type": "code",
   "execution_count": null,
   "metadata": {
    "collapsed": true
   },
   "outputs": [],
   "source": [
    "if IN_COLAB:\n",
    "    !rm -r images/ || true\n",
    "    !mkdir -p images\n",
    "    !mkdir -p images/main\n",
    "    !mkdir -p images/cortex"
   ]
  },
  {
   "cell_type": "markdown",
   "metadata": {
    "id": "gC7leXbgziXS"
   },
   "source": [
    "#### By upload"
   ]
  },
  {
   "cell_type": "code",
   "execution_count": null,
   "metadata": {
    "collapsed": true,
    "id": "bX1mO5PRziXT",
    "pycharm": {
     "name": "#%%\n"
    }
   },
   "outputs": [],
   "source": [
    "if IN_COLAB and howToGetImage == \"Upload\":\n",
    "    imageFileType = 'main' #@param [\"cortex\", \"main\"]\n",
    "    print(\"Please upload the image(s) you want to run the inference on, you can upload the corresponding annotations files too.\")\n",
    "    from google.colab import files\n",
    "    import shutil\n",
    "    uploaded = files.upload()\n",
    "    for fileName in uploaded:\n",
    "        shutil.move(fileName, \"images/{}/{}\".format(imageFileType, fileName))"
   ]
  },
  {
   "cell_type": "markdown",
   "metadata": {
    "id": "cfzzCtOdziXV"
   },
   "source": [
    "#### By copy from Google Drive"
   ]
  },
  {
   "cell_type": "markdown",
   "metadata": {
    "id": "Vl8p94YMziXW"
   },
   "source": [
    "Be sure to customize the 2 variables for Google Colab to be able find your file(s) in Google Drive.\n",
    "Let's say you have this hierarchy in your Google Drive:\n",
    "```\n",
    "Root directory of Google Drive\n",
    "  ├─── Directory1\n",
    "  └─── Directory2\n",
    "       ├─── images\n",
    "       │    ├─── example1.png\n",
    "       │    └─── example2.png\n",
    "       └─── saved_weights\n",
    "            ├─── main.h5\n",
    "            └─── cortex.h5\n",
    "```\n",
    "1.   ```customPathInDrive``` must represent all the directories between the root directory and your image file. In the example, it would be ```Directory2/images/```. **Do not forget the final /** if you have to use this variable. Keep it empty if **file is directly in root directory** of Google Drive;\n",
    "2.   ```imageFileName``` must represent the file you want to upload. In the example, it would be ```example1.png```. It can also be empty, if you want to import all the folder's images *(and annotations files if checkbox is checked)* directly to Google Colab, so in the example ```example1.png``` and ```example2.png``` would be imported.\n",
    "\n",
    "Use the text fields available on the right."
   ]
  },
  {
   "cell_type": "code",
   "execution_count": null,
   "metadata": {
    "collapsed": true,
    "id": "XldmxmY6ziXW",
    "pycharm": {
     "name": "#%%\n"
    }
   },
   "outputs": [],
   "source": [
    "if IN_COLAB and howToGetImage == \"From Google Drive\":\n",
    "    pathToDrive = \"'/content/drive/MyDrive/\"\n",
    "    customPathInDrive = \"\" #@param {type:\"string\"}\n",
    "    imageFilePath = \"\" #@param{type:\"string\"}\n",
    "    imageFileType = 'main' #@param [\"cortex\", \"main\"]\n",
    "    annotationsFile = True #@param {type:\"boolean\"}\n",
    "    if imageFilePath != \"\":\n",
    "        pathToImage = pathToDrive + customPathInDrive + imageFilePath + \"'\"\n",
    "        tempPath = \"images/\" + imageFileType + '/' + imageFilePath\n",
    "        print(\"Copying {} to {}\".format(pathToImage, tempPath))\n",
    "        !cp -u $pathToImage $tempPath\n",
    "        if annotationsFile:\n",
    "            annotationsFileName = imageFilePath.split('.')[0] + '.xml'\n",
    "            pathToAnnotations = pathToDrive + customPathInDrive + annotationsFileName + \"'\"\n",
    "            tempPath = \"images/\" + imageFileType + '/' + annotationsFileName\n",
    "            print(\"Copying {} to {}\".format(pathToAnnotations, tempPath))\n",
    "            !cp -u $pathToAnnotations $tempPath\n",
    "    else:\n",
    "        pathToImageFolder = \"/content/drive/MyDrive/\" + customPathInDrive\n",
    "        fileList = os.listdir(pathToImageFolder)\n",
    "        ext = ['jp2', 'png', 'jpg']\n",
    "        if annotationsFile:\n",
    "            ext.extend(['xml', 'json'])\n",
    "        for dataFile in fileList:\n",
    "            if dataFile.split('.')[-1] in ext:\n",
    "                pathToFile = pathToDrive + customPathInDrive + dataFile + \"'\"\n",
    "                tempPath = 'images/' + imageFileType + '/' + dataFile\n",
    "                print(\"Copying {} to {}\".format(pathToFile, tempPath))\n",
    "                !cp -u $pathToFile $tempPath"
   ]
  },
  {
   "cell_type": "markdown",
   "metadata": {
    "id": "wi9paQR0ziXa"
   },
   "source": [
    "### Retrieving Weights File"
   ]
  },
  {
   "cell_type": "markdown",
   "metadata": {
    "id": "jnou4ngBziXb"
   },
   "source": [
    "Same thing than retrieving an image file using Google Drive but it is the saved weights file (```.h5``` extension) for main and cortex modes. With the past example, it would be ```Directory2/saved_weights/``` as ```customPathInDrive```, ```main.h5``` as ```mainWeightFileName``` and ```cortex.h5``` as ```cortexWeightFileName```."
   ]
  },
  {
   "cell_type": "code",
   "execution_count": null,
   "metadata": {
    "collapsed": true,
    "id": "-637P0TLziXc",
    "pycharm": {
     "name": "#%%\n"
    }
   },
   "outputs": [],
   "source": [
    "if IN_COLAB:\n",
    "    pathToDrive = \"'/content/drive/MyDrive/\"\n",
    "    # Keep customPathInDrive empty if file directly in root directory of Google Drive\n",
    "    customPathInDrive = \"\" #@param {type:\"string\"}\n",
    "    mainWeightFileName = \"mask_rcnn_nephrologie_2205_99.h5\" #@param {type:\"string\"}\n",
    "    cortexWeightFileName = \"mask_rcnn_nephrologie_cortex_500_150.h5\" #@param {type:\"string\"}\n",
    "    for path in [mainWeightFileName, cortexWeightFileName]:\n",
    "        pathToWeights = pathToDrive + customPathInDrive + path + \"'\"\n",
    "        print(\"Copying {} to {}\".format(pathToWeights, path))\n",
    "        !cp -u $pathToWeights $path"
   ]
  },
  {
   "cell_type": "markdown",
   "metadata": {
    "id": "aK4BiT4UziXf"
   },
   "source": [
    "## Initialisation"
   ]
  },
  {
   "cell_type": "markdown",
   "metadata": {},
   "source": [
    "### Configuration"
   ]
  },
  {
   "cell_type": "markdown",
   "metadata": {
    "id": "_BNhS71dziXf"
   },
   "source": [
    "Be sure to set ```MODEL_PATH``` to the same value than ```weightFileName```. If you want to save the results in files ```saveResults``` should be checked. You will have to open the **Files tab** in the **vertical navigation bar on the left** to see the results appearing. Then you can save them by right-clicking on each file and save it. You can customize the division size but staying at 1024 should be fine. You can also customize the thresholds and the priority table, this will change the post-processing behavior. \n",
    "\n",
    "```miniMaskSize``` will reduce memory consumption and duration of the processing (lower is better) however, large elements will be less smooth (reducing accuracy of the mask) (higher is better). Full resolution masks will be used in cortex mode or in main mode only if ```forceFullSizeMasks``` is set to True."
   ]
  },
  {
   "cell_type": "code",
   "execution_count": null,
   "metadata": {
    "collapsed": true,
    "id": "KRoQrP1zziXh",
    "pycharm": {
     "name": "#%%\n"
    }
   },
   "outputs": [],
   "source": [
    "MAIN_MODEL_PATH = \"mask_rcnn_nephrologie_2205_%LAST%.h5\" #@param {type:\"string\"}\n",
    "CORTEX_MODEL_PATH = \"mask_rcnn_nephrologie_cortex_500_%LAST%.h5\" #@param {type:\"string\"}\n",
    "RESULTS_PATH = \"results/inference/\" #@param {type:\"string\"}\n",
    "MIN_DETECTION_CONFIDENCE = 0.5 #@param {type:\"slider\", min:0, max:1, step:0.01}\n",
    "DIVISION_SIZE = 1024 #@param {type:\"slider\", min:896, max:1024, step:1}\n",
    "miniMaskSize = 128 #@param {type:\"slider\", min:16, max:256, step:1}\n",
    "forceFullSizeMasks = False  #@param {type:\"boolean\"}\n",
    "MIN_OVERLAP_PART_MAIN = 0.33 #@param {type:\"slider\", min:0, max:1, step:0.01}\n",
    "MIN_OVERLAP_PART_CORTEX = 0.5 #@param {type:\"slider\", min:0, max:1, step:0.01}\n",
    "displayMode = \"All steps\" #@param [\"All steps\", \"Only AP & statistics\"]\n",
    "saveResults = True #@param {type:\"boolean\"}\n",
    "savePreFusionImage = True #@param {type:\"boolean\"}\n",
    "savePreFilterImage = True #@param {type:\"boolean\"}\n",
    "minMaskArea = 300 #@param {type:\"slider\", min:0, max:10000000, step:50}\n",
    "experimental = True #@param {type:\"boolean\"}\n",
    "weightId = int(MAIN_MODEL_PATH.split('_')[-2])\n",
    "cortexMode = False #@param {type:\"boolean\"}\n",
    "experimental = experimental and not cortexMode and weightId > 1894\n",
    "hasNsgClass = weightId > 753\n",
    "hasIntimaMediaClasses = weightId > 1087\n",
    "moveFusionDirToImagesAuto = False #@param {type:\"boolean\"}\n",
    "cortexSize = (2048, 2048)\n",
    "MODEL_PATH = CORTEX_MODEL_PATH if cortexMode else MAIN_MODEL_PATH\n",
    "classesInfo = [\n",
    "    {\"inferenceID\": 1,  \"id\": 0,  \"name\": \"cortex\",            \"color\": \"#ffaa00\", \"ignore\": not cortexMode},\n",
    "    {\"inferenceID\": 2,  \"id\": 1,  \"name\": \"medullaire\",        \"color\": \"#ff0000\", \"ignore\": not cortexMode},\n",
    "    {\"inferenceID\": 3,  \"id\": 2,  \"name\": \"capsule\",           \"color\": \"#ffffff\", \"ignore\": not cortexMode},\n",
    "    {\"inferenceID\": 1,  \"id\": 3,  \"name\": \"tubule_sain\",       \"color\": \"#ff007f\", \"ignore\": cortexMode},\n",
    "    {\"inferenceID\": 2,  \"id\": 4,  \"name\": \"tubule_atrophique\", \"color\": \"#55557f\", \"ignore\": cortexMode},\n",
    "    {\"inferenceID\": 3,  \"id\": 5,  \"name\": \"nsg_complet\",       \"color\": \"#ff557f\", \"ignore\": cortexMode},\n",
    "    {\"inferenceID\": 4,  \"id\": 6,  \"name\": \"nsg_partiel\",       \"color\": \"#55aa7f\", \"ignore\": cortexMode},\n",
    "    {\"inferenceID\": 5,  \"id\": 7,  \"name\": \"pac\",               \"color\": \"#ffaa7f\", \"ignore\": cortexMode},\n",
    "    {\"inferenceID\": 6,  \"id\": 8,  \"name\": \"vaisseau\",          \"color\": \"#55ff7f\", \"ignore\": cortexMode},\n",
    "    {\"inferenceID\": 7,  \"id\": 9,  \"name\": \"artefact\",          \"color\": \"#000000\", \"ignore\": cortexMode},\n",
    "    {\"inferenceID\": 8,  \"id\": 10, \"name\": \"veine\",             \"color\": \"#0000ff\", \"ignore\": cortexMode},\n",
    "    {\"inferenceID\": 9,  \"id\": 11, \"name\": \"nsg\",               \"color\": \"#55007f\", \"ignore\": not hasNsgClass or cortexMode},\n",
    "    {\"inferenceID\": 10, \"id\": 12, \"name\": \"intima\",            \"color\": \"#aa0000\", \"ignore\": not hasIntimaMediaClasses or cortexMode},\n",
    "    {\"inferenceID\": 11, \"id\": 13, \"name\": \"media\",             \"color\": \"#aa5500\", \"ignore\": not hasIntimaMediaClasses or cortexMode}\n",
    "]\n",
    "if weightId > 1894:\n",
    "    classesInfo = [\n",
    "        {\"inferenceID\": 1,  \"id\": 0,  \"name\": \"cortex\",            \"color\": \"#ffaa00\", \"ignore\": not cortexMode},\n",
    "        {\"inferenceID\": 2,  \"id\": 1,  \"name\": \"medullaire\",        \"color\": \"#ff0000\", \"ignore\": not cortexMode},\n",
    "        {\"inferenceID\": 3,  \"id\": 2,  \"name\": \"capsule\",           \"color\": \"#ffffff\", \"ignore\": not cortexMode},\n",
    "        {\"inferenceID\": 1,  \"id\": 3,  \"name\": \"tubule_sain\",       \"color\": \"#ff007f\", \"ignore\": cortexMode},\n",
    "        {\"inferenceID\": 2,  \"id\": 4,  \"name\": \"tubule_atrophique\", \"color\": \"#55557f\", \"ignore\": cortexMode},\n",
    "        {\"inferenceID\": 3,  \"id\": 5,  \"name\": \"nsg\",               \"color\": \"#55007f\", \"ignore\": cortexMode},\n",
    "        {\"inferenceID\": 4,  \"id\": 6,  \"name\": \"nsg_complet\",       \"color\": \"#ff557f\", \"ignore\": cortexMode},\n",
    "        {\"inferenceID\": 5,  \"id\": 7,  \"name\": \"nsg_partiel\",       \"color\": \"#55aa7f\", \"ignore\": cortexMode},\n",
    "        {\"inferenceID\": 6,  \"id\": 8,  \"name\": \"pac\",               \"color\": \"#ffaa7f\", \"ignore\": cortexMode},\n",
    "        {\"inferenceID\": 7,  \"id\": 9,  \"name\": \"veine\",             \"color\": \"#0000ff\", \"ignore\": cortexMode},\n",
    "        {\"inferenceID\": 8,  \"id\": 10, \"name\": \"vaisseau\",          \"color\": \"#55ff7f\", \"ignore\": cortexMode},\n",
    "        {\"inferenceID\": 9,  \"id\": 11, \"name\": \"intima\",            \"color\": \"#aa0000\", \"ignore\": cortexMode},\n",
    "        {\"inferenceID\": 10, \"id\": 12, \"name\": \"media\",             \"color\": \"#aa5500\", \"ignore\": cortexMode}\n",
    "    ]\n",
    "\n",
    "# Following variables are used to fuse overlapping masks of the same class\n",
    "# These thresholds determine the least part represented by the overlapping area\n",
    "# of bounding boxes or masks to determine whether or not we should fuse two masks\n",
    "FUSION_BB_THRESHOLD = 0.1 #@param {type:\"slider\", min:0, max:1, step:0.01}\n",
    "FUSION_MASK_THRESHOLD = 0.1 #@param {type:\"slider\", min:0, max:1, step:0.01}\n",
    "\n",
    "# Following variables are used to filter the masks before displaying results\n",
    "# Same thing than fusion thresholds but for removing masks\n",
    "FILTER_BB_THRESHOLD = 0.5 #@param {type:\"slider\", min:0, max:1, step:0.01}\n",
    "FILTER_MASK_THRESHOLD = 0.5 #@param {type:\"slider\", min:0, max:1, step:0.01}\n",
    "# Rows and columns correspond to classes in the same order than the classesInfo array without the first element\n",
    "# An element set to true means that a mask of the column class, if contained by a mask of the\n",
    "# row class, will be erased.\n",
    "# True -> colunm element could be erased by row element\n",
    "if not cortexMode:    #tSain  tAtro  nsg    nsgC   nsgP   pac    veine  vais.  intima media\n",
    "    PRIORITY_TABLE = [[False, True,  False, False, False, True,  False, False, False, False], # tubule_sain\n",
    "                      [False, False, False, False, False, True,  False, False, False, False], # tubule_atrophique\n",
    "                      [True,  True,  False, False, False, True,  True,  True,  True,  True ], # nsg\n",
    "                      [True,  True,  False, False, True,  True,  True,  True,  False, False], # nsg_complet\n",
    "                      [True,  True,  False, False, False, True,  True,  True,  False, False], # nsg_partiel\n",
    "                      [True,  True,  False, False, False, False, False, False, False, False], # pac\n",
    "                      [False, False, False, False, False, False, False, False, False, False], # veine\n",
    "                      [True,  True,  False, False, False, True,  True,  False, False, False], # vaisseau\n",
    "                      [False, False, False, False, False, False, False, False, False, False], # intima\n",
    "                      [False, False, False, False, False, False, False, False, False, False]] # media\n",
    "    if experimental:     \n",
    "        \"\"\"\n",
    "        -1 : column element always erase row element\n",
    "         0 : best element based on score (small mask in big one can \"win\")\n",
    "         3 : best element based on score if no inclusion of one in the other \n",
    "             Inclusion is supposed when:\n",
    "             (FILTER_MASK_THRESHOLD * 100)% of mask A < intersection < (FILTER_MASK_THRESHOLD * 100)% of mask B\n",
    "         1 : row element always erase column element\n",
    "         2 : do not filter/keep the masks when one is from row class and the other from column class\n",
    "        \"\"\"\n",
    "                         #tS  tAt nsg  nC  nP pac vei vai int med\n",
    "        PRIORITY_TABLE = [[2,  0,  0,  2,  2,  0,  0,  3,  2,  2], # tubule_sain\n",
    "                          [0,  2,  0,  2,  2,  0,  0,  3,  2,  2], # tubule_atrophique\n",
    "                          [0,  0,  2,  2,  2,  0,  1,  3,  2,  2], # nsg\n",
    "                          [2,  2,  2,  2,  2,  2,  2,  2,  2,  2], # nsg_complet\n",
    "                          [2,  2,  2,  2,  2,  2,  2,  2,  2,  2], # nsg_partiel\n",
    "                          [0,  0, -1,  2,  2,  2,  0, -1,  2,  2], # pac\n",
    "                          [0,  0, -1,  2,  2,  0,  2, -1,  2,  2], # veine\n",
    "                          [3,  3,  3,  2,  2,  1,  1,  2,  2,  2], # vaisseau\n",
    "                          [2,  2,  2,  2,  2,  2,  2,  2,  2,  2], # intima\n",
    "                          [2,  2,  2,  2,  2,  2,  2,  2,  2,  2]] # media\n",
    "else:                 #cortex medul. capsule\n",
    "    PRIORITY_TABLE = [[False, False, False], # cortex\n",
    "                      [False, False, False], # medullaire\n",
    "                      [False, False, False]] # capsule\n",
    "# Here are variables \n",
    "NB_MAX_DIV_PER_AXIS = 3 #@param {type:\"slider\", min:3, max:7, step:1}\n",
    "FUSION_DIV_THRESHOLD = 0.1 #@param {type:\"slider\", min:0, max:1, step:0.01}"
   ]
  },
  {
   "cell_type": "markdown",
   "metadata": {},
   "source": [
    "### Information"
   ]
  },
  {
   "cell_type": "code",
   "execution_count": null,
   "metadata": {
    "collapsed": true
   },
   "outputs": [],
   "source": [
    "print(\"Skinet in {} segmentation mode :\".format(\"CORTEX\" if cortexMode else \"MAIN\"))\n",
    "print(\"\\t- Weights file : {}\".format(MODEL_PATH))\n",
    "if cortexMode:\n",
    "    print(\"\\t- Image(s) will be resized to {} for inference.\".format(cortexSize if cortexSize is not None else (1024, 1024)))\n",
    "    MIN_OVERLAP_PART = MIN_OVERLAP_PART_CORTEX\n",
    "else :\n",
    "    print(\"\\t- Masks will be {}\".format(\"full size\" if forceFullSizeMasks else \"{0}x{0} px\".format(miniMaskSize)))\n",
    "    MIN_OVERLAP_PART = MIN_OVERLAP_PART_MAIN\n",
    "print(\"\\t- Divisions will be {}x{} px with{} overlapping.\".format(DIVISION_SIZE, DIVISION_SIZE, \"out\" if MIN_OVERLAP_PART == 0 else \" {:.2%}\".format(MIN_OVERLAP_PART)))"
   ]
  },
  {
   "cell_type": "code",
   "execution_count": null,
   "metadata": {
    "collapsed": true,
    "id": "VdhPw1_DziXk",
    "pycharm": {
     "name": "#%%\n"
    }
   },
   "outputs": [],
   "source": [
    "import os\n",
    "os.environ['TF_CPP_MIN_LOG_LEVEL'] = '3'\n",
    "import nephrology as nephro\n",
    "images = nephro.listAvailableImage(os.path.join('images', 'cortex' if cortexMode else 'main'))\n",
    "print(\"Found {} image{}{}\".format(len(images) if len(images) > 0 else 'no', 's' if len(images) > 1 else '', ':' if len(images) > 0 else ''))\n",
    "for image in images:\n",
    "    print(\" -\", image)"
   ]
  },
  {
   "cell_type": "markdown",
   "metadata": {
    "id": "djryzFV3ziXq"
   },
   "source": [
    "## Inference"
   ]
  },
  {
   "cell_type": "code",
   "execution_count": null,
   "metadata": {
    "collapsed": true,
    "id": "Oh__RSBqziXq",
    "pycharm": {
     "name": "#%%\n"
    }
   },
   "outputs": [],
   "source": [
    "import shutil\n",
    "shutil.rmtree('data/', ignore_errors=True)\n",
    "if len(images) > 0:\n",
    "    model = nephro.NephrologyInferenceModel(classesInfo, MODEL_PATH, MIN_DETECTION_CONFIDENCE, DIVISION_SIZE, MIN_OVERLAP_PART_MAIN, MIN_OVERLAP_PART_CORTEX, cortexSize if cortexMode else None, mini_mask_size=miniMaskSize, forceFullSizeMasks=forceFullSizeMasks)\n",
    "    model.inference(images, RESULTS_PATH, saveResults, FUSION_BB_THRESHOLD, FUSION_MASK_THRESHOLD, FILTER_BB_THRESHOLD, FILTER_MASK_THRESHOLD, PRIORITY_TABLE, NB_MAX_DIV_PER_AXIS, FUSION_DIV_THRESHOLD, displayOnlyAP=(displayMode == \"Only AP & statistics\"), allowSparse=False, savePreFusionImage=savePreFusionImage, savePreFilterImage=savePreFilterImage, minMaskArea=minMaskArea)"
   ]
  },
  {
   "cell_type": "code",
   "execution_count": null,
   "metadata": {
    "collapsed": true,
    "id": "7M9nqGoVziXt"
   },
   "outputs": [],
   "source": [
    "shutil.rmtree('data/', ignore_errors=True)"
   ]
  },
  {
   "cell_type": "markdown",
   "metadata": {
    "id": "9OcCXegqziXw"
   },
   "source": [
    "### Moving Fusion files (Colab + Local) and downloading results (Colab only)"
   ]
  },
  {
   "cell_type": "code",
   "execution_count": null,
   "metadata": {
    "collapsed": true,
    "id": "hc8W8plZziXx"
   },
   "outputs": [],
   "source": [
    "if len(images) > 0:\n",
    "    if RESULTS_PATH is None or RESULTS_PATH in ['.', './', \"/\", \"\"]:\n",
    "        lastDir = \"results\"\n",
    "        remainingPath = \"./\"\n",
    "    else:\n",
    "        if RESULTS_PATH[-1] == '/':\n",
    "            index = -2\n",
    "        else:\n",
    "            index = -1\n",
    "        lastDir = RESULTS_PATH.split('/')[index].replace('/', '')\n",
    "        remainingPath = RESULTS_PATH[0:RESULTS_PATH.index(lastDir)]\n",
    "\n",
    "    lastFoundDir = None\n",
    "    fileList = os.listdir(remainingPath)\n",
    "    fileList.sort()\n",
    "    for resultFolder in fileList:\n",
    "        if lastDir in resultFolder and os.path.isdir(os.path.join(remainingPath, resultFolder)):\n",
    "            lastFoundDir = resultFolder\n",
    "    if lastFoundDir is not None:\n",
    "        lastFoundDirPath = os.path.join(remainingPath, lastFoundDir)\n",
    "        if cortexMode and moveFusionDirToImagesAuto:\n",
    "                for imageFolder in os.listdir(lastFoundDirPath):\n",
    "                    if os.path.isdir(os.path.join(lastFoundDirPath, imageFolder)):\n",
    "                        fusionFolder = os.path.join(lastFoundDirPath, imageFolder, imageFolder + \"_fusion\")\n",
    "                        if os.path.exists(fusionFolder):\n",
    "                            if len(os.listdir(fusionFolder)) > 2:\n",
    "                                skinetFile = os.path.join(lastFoundDirPath, imageFolder, imageFolder + \"_fusion_info.skinet\")\n",
    "                                shutil.copytree(fusionFolder, os.path.join(\"images\", \"main\", imageFolder + \"_fusion\"))\n",
    "                                shutil.copy2(skinetFile, os.path.join(\"images\", \"main\", imageFolder + \"_fusion_info.skinet\"))\n",
    "        if IN_COLAB:\n",
    "            zipName = lastFoundDir + '.zip'\n",
    "            !zip -qr $zipName $lastFoundDirPath\n",
    "            print(\"Results can be downloaded on the Files tab on the left\")\n",
    "            print(\"Zip file name is :\", zipName)"
   ]
  },
  {
   "cell_type": "markdown",
   "metadata": {
    "id": "OKqFDr3OziXz"
   },
   "source": [
    "This cell may run indefinitely, Google Colab has problem with downloading automatically large files."
   ]
  },
  {
   "cell_type": "code",
   "execution_count": null,
   "metadata": {
    "collapsed": true,
    "id": "TmW9uzKcziXz"
   },
   "outputs": [],
   "source": [
    "if IN_COLAB and len(images) > 0:\n",
    "    from google.colab import files\n",
    "    files.download(zipName)"
   ]
  }
 ],
 "metadata": {
  "celltoolbar": "Format de la Cellule Texte Brut",
  "colab": {
   "collapsed_sections": [],
   "name": "Mask_R_CNN_Nephrology_Inference.ipynb",
   "private_outputs": true,
   "provenance": [
    {
     "file_id": "https://github.com/AdrienJaugey/Custom-Mask-R-CNN-for-kidney-s-cell-recognition/blob/master/Mask_R_CNN_Nephrology_Inference.ipynb",
     "timestamp": 1604940532978
    }
   ],
   "toc_visible": true
  },
  "kernelspec": {
   "display_name": "Python 3",
   "language": "python",
   "name": "python3"
  },
  "language_info": {
   "codemirror_mode": {
    "name": "ipython",
    "version": 3
   },
   "file_extension": ".py",
   "mimetype": "text/x-python",
   "name": "python",
   "nbconvert_exporter": "python",
   "pygments_lexer": "ipython3",
   "version": "3.6.12"
  }
 },
 "nbformat": 4,
 "nbformat_minor": 1
}
