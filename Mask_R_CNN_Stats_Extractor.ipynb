{
 "cells": [
  {
   "cell_type": "markdown",
   "metadata": {
    "id": "KqzoydcMBgc-"
   },
   "source": [
    "# Mask R-CNN - Statistics Extractor"
   ]
  },
  {
   "cell_type": "markdown",
   "metadata": {
    "id": "Tu0r49kND1_z"
   },
   "source": [
    "## Initialisation"
   ]
  },
  {
   "cell_type": "markdown",
   "metadata": {
    "id": "fA4OVDl3D5zL"
   },
   "source": [
    "### Detecting Environment"
   ]
  },
  {
   "cell_type": "code",
   "execution_count": null,
   "metadata": {
    "id": "1JnPwYerzUO4"
   },
   "outputs": [],
   "source": [
    "import sys\n",
    "IN_COLAB = 'google.colab' in sys.modules\n",
    "print(\"Executing in Google Colab\" if IN_COLAB else \"Executing locally\")"
   ]
  },
  {
   "cell_type": "markdown",
   "metadata": {
    "id": "LXIK5fcSD9Xq"
   },
   "source": [
    "### Getting all the needed files"
   ]
  },
  {
   "cell_type": "code",
   "execution_count": null,
   "metadata": {
    "id": "wa3F4QvMxmCE"
   },
   "outputs": [],
   "source": [
    "if IN_COLAB:\n",
    "    import shutil\n",
    "    shutil.rmtree('sample_data/', ignore_errors=True)\n",
    "    import os\n",
    "    GITHUB_REPO = \"https://raw.githubusercontent.com/AdrienJaugey/Custom-Mask-R-CNN-for-kidney-s-cell-recognition/master/\"\n",
    "    files = ['datasetTools/datasetDivider.py', 'datasetTools/AnnotationAdapter.py',\n",
    "             'datasetTools/ASAPAdapter.py', 'datasetTools/LabelMeAdapter.py']\n",
    "    for fileToDownload in files:\n",
    "        url = GITHUB_REPO + fileToDownload\n",
    "        !wget -qN $url\n",
    "        if '/' in fileToDownload:\n",
    "            destDir = fileToDownload.split('/')[0]\n",
    "            fileName = fileToDownload.split('/')[1].replace('/', '')\n",
    "            os.makedirs(destDir, exist_ok=True)\n",
    "            !mv $fileName $fileToDownload"
   ]
  },
  {
   "cell_type": "markdown",
   "metadata": {
    "id": "8BO3Z_UJEGzG"
   },
   "source": [
    "### Importing annotations file(s) to Google Colab"
   ]
  },
  {
   "cell_type": "code",
   "execution_count": null,
   "metadata": {
    "id": "VK0WVo_g0M5u"
   },
   "outputs": [],
   "source": [
    "import json\n",
    "import os\n",
    "import cv2\n",
    "import numpy as np\n",
    "from datasetTools import AnnotationAdapter as adapt\n",
    "from datasetTools.datasetDivider import getBWCount"
   ]
  },
  {
   "cell_type": "code",
   "execution_count": null,
   "metadata": {
    "id": "_1NUD9fu0fuh"
   },
   "outputs": [],
   "source": [
    "if IN_COLAB:\n",
    "    howToGetAnnotationFiles = \"Upload\" #@param [\"Upload\", \"From Google Drive\"]\n",
    "    os.makedirs('annotations', exist_ok=True)"
   ]
  },
  {
   "cell_type": "code",
   "execution_count": null,
   "metadata": {
    "id": "m4A9hra91Cei"
   },
   "outputs": [],
   "source": [
    "if IN_COLAB and howToGetAnnotationFiles == \"Upload\":\n",
    "    print(\"Please upload the annotation file(s) you want to get the stats of.\")\n",
    "    from google.colab import files\n",
    "    import shutil\n",
    "    uploaded = files.upload()\n",
    "    for fileName in uploaded:\n",
    "        if fileName.split('.')[-1] in adapt.ANNOTATION_FORMAT:\n",
    "            shutil.move(fileName, \"annotations/{}\".format(fileName))\n",
    "        else:\n",
    "            os.remove(fileName)"
   ]
  },
  {
   "cell_type": "code",
   "execution_count": null,
   "metadata": {
    "id": "pNFZGeZC0bqw"
   },
   "outputs": [],
   "source": [
    "if IN_COLAB and howToGetAnnotationFiles == \"From Google Drive\":\n",
    "    from google.colab import drive\n",
    "    drive.mount('/content/drive')\n",
    "    pathToDrive = \"'/content/drive/My Drive/\"\n",
    "    customPathInDrive = \"\" #@param {type:\"string\"}\n",
    "    annotationFilePath = \"\" #@param{type:\"string\"}\n",
    "    if annotationFilePath != \"\":\n",
    "        pathToAnnotation = pathToDrive + customPathInDrive + annotationFilePath + \"'\"\n",
    "        tempPath = \"annotations/\" + annotationFilePath\n",
    "        print(\"Copying {} to {}\".format(pathToAnnotation, tempPath))\n",
    "        !cp -u $pathToAnnotation $tempPath\n",
    "    else:\n",
    "        pathToAnnotationFolder = \"/content/drive/My Drive/\" + customPathInDrive\n",
    "        fileList = os.listdir(pathToAnnotationFolder)\n",
    "        for dataFile in fileList:\n",
    "            if dataFile.split('.')[-1] in adapt.ANNOTATION_FORMAT:\n",
    "                pathToFile = pathToDrive + customPathInDrive + dataFile + \"'\"\n",
    "                tempPath = 'annotations/' + dataFile\n",
    "                print(\"Copying {} to {}\".format(pathToFile, tempPath))\n",
    "                !cp -u $pathToFile $tempPath"
   ]
  },
  {
   "cell_type": "markdown",
   "metadata": {
    "id": "h7vFpcK6Efbg"
   },
   "source": [
    "### Declaration of functions"
   ]
  },
  {
   "cell_type": "code",
   "execution_count": null,
   "metadata": {
    "id": "0Vz3pgQ3yCg6"
   },
   "outputs": [],
   "source": [
    "def getMaskArea(ptsMask):\n",
    "    # Formating coordinates to be usable\n",
    "    ptsMask = np.double(ptsMask)\n",
    "    ptsMask = np.matrix.round(ptsMask)\n",
    "    ptsMask = np.int32(ptsMask)\n",
    "\n",
    "    xs = ptsMask[:, 0]\n",
    "    ys = ptsMask[:, 1]\n",
    "\n",
    "    xMin = np.amin(xs)\n",
    "    xMax = np.amax(xs)\n",
    "    yMin = np.amin(ys)\n",
    "    yMax = np.amax(ys)\n",
    "\n",
    "    ptsMask[:, 0] -= np.ones((ptsMask.shape[0]), dtype=np.uint8) * xMin\n",
    "    ptsMask[:, 1] -= np.ones((ptsMask.shape[0]), dtype=np.uint8) * yMin\n",
    "\n",
    "    mask = np.uint8(np.zeros((yMax - yMin, xMax - xMin)))\n",
    "    cv2.fillPoly(mask, [ptsMask], 255)\n",
    "\n",
    "    return getBWCount(mask)[1]"
   ]
  },
  {
   "cell_type": "code",
   "execution_count": null,
   "metadata": {
    "id": "SF8vGqtFyGu0"
   },
   "outputs": [],
   "source": [
    "def getStatsFromAnnotation(annotationPath):\n",
    "    adapter = None\n",
    "    adapters = adapt.ANNOTATION_ADAPTERS\n",
    "    adapterPriority = -1\n",
    "\n",
    "    for a in adapters:\n",
    "        if a.canRead(annotationPath):\n",
    "            if a.getPriorityLevel() > adapterPriority:\n",
    "                adapterPriority = a.getPriorityLevel()\n",
    "                adapter = a\n",
    "\n",
    "    masks = adapter.readFile(annotationPath)\n",
    "\n",
    "    stats = {}\n",
    "\n",
    "    for datasetClass, ptMask in masks:\n",
    "        if type(datasetClass) is int:\n",
    "            if datasetClass < len(classesInfo) and classesInfo[datasetClass][\"id\"] == datasetClass:\n",
    "                maskClass = classesInfo[datasetClass][\"name\"]\n",
    "            else:\n",
    "                for classInfo in classesInfo:\n",
    "                    if classInfo[\"id\"] == datasetClass:\n",
    "                        maskClass = classInfo[\"name\"]\n",
    "                        break\n",
    "        else:\n",
    "            maskClass = datasetClass\n",
    "\n",
    "        if maskClass not in stats:\n",
    "            stats[maskClass] = {\"count\": 0, \"area\": 0}\n",
    "\n",
    "        stats[maskClass][\"count\"] += 1\n",
    "        stats[maskClass][\"area\"] += getMaskArea(ptMask)\n",
    "    return stats"
   ]
  },
  {
   "cell_type": "markdown",
   "metadata": {
    "id": "FF9wJNALEQ8Y"
   },
   "source": [
    "### Link between classes names and IDs"
   ]
  },
  {
   "cell_type": "code",
   "execution_count": null,
   "metadata": {
    "id": "tIgt2ErVyA13"
   },
   "outputs": [],
   "source": [
    "classesInfo = [\n",
    "    {\"id\": 0, \"name\": \"cortex\"},\n",
    "    {\"id\": 1, \"name\": \"medullaire\"},\n",
    "    {\"id\": 2, \"name\": \"capsule\"},\n",
    "    {\"id\": 3, \"name\": \"tubule_sain\"},\n",
    "    {\"id\": 4, \"name\": \"tubule_atrophique\"},\n",
    "    {\"id\": 5, \"name\": \"nsg_complet\"},\n",
    "    {\"id\": 6, \"name\": \"nsg_partiel\"},\n",
    "    {\"id\": 7, \"name\": \"pac\"},\n",
    "    {\"id\": 8, \"name\": \"vaisseau\"},\n",
    "    {\"id\": 9, \"name\": \"artefact\"},\n",
    "    {\"id\": 10, \"name\": \"veine\"},\n",
    "    {\"id\": 11, \"name\": \"nsg\"},\n",
    "    {\"id\": 12, \"name\": \"intima\"},\n",
    "    {\"id\": 13, \"name\": \"media\"}\n",
    "]"
   ]
  },
  {
   "cell_type": "markdown",
   "metadata": {
    "id": "w-I3GmFGEqUQ"
   },
   "source": [
    "## Extraction of stats"
   ]
  },
  {
   "cell_type": "code",
   "execution_count": null,
   "metadata": {
    "id": "Z6OOmdASyMvJ"
   },
   "outputs": [],
   "source": [
    "saveStats = True #@param {type:\"boolean\"}\n",
    "if saveStats:\n",
    "    os.makedirs('statistics', exist_ok=True)\n",
    "for annotationFile in os.listdir('annotations/'):\n",
    "    if os.path.isfile(os.path.join('annotations', annotationFile)):\n",
    "        imageName = annotationFile.split('.')[0]\n",
    "        stats = getStatsFromAnnotation(os.path.join('annotations', annotationFile))\n",
    "        print(\"{} statistics :\".format(imageName))\n",
    "        for eltClass in stats:\n",
    "            print(\" - {} : count = {}, area = {}\".format(eltClass, stats[eltClass][\"count\"], stats[eltClass][\"area\"]))\n",
    "        print()\n",
    "        if saveStats:\n",
    "            with open(os.path.join('statistics', '{}_stats.json'.format(imageName)), 'w') as statFile:\n",
    "                json.dump(stats, statFile, indent=\"\\t\")"
   ]
  },
  {
   "cell_type": "markdown",
   "metadata": {
    "id": "Ck2PnBbjEw7N"
   },
   "source": [
    "### Exporting results"
   ]
  },
  {
   "cell_type": "code",
   "execution_count": null,
   "metadata": {
    "id": "Jmv8ollYA7E1"
   },
   "outputs": [],
   "source": [
    "if IN_COLAB and saveStats:\n",
    "        !zip -qr statistics.zip statistics/\n",
    "        print(\"Results can be downloaded on the Files tab on the left\")\n",
    "        print(\"Zip file name is : statistics.zip\")\n",
    "        from google.colab import files\n",
    "        files.download('statistics.zip')"
   ]
  }
 ],
 "metadata": {
  "colab": {
   "authorship_tag": "ABX9TyOHBS6d5l6TXpghydDsqc9D",
   "collapsed_sections": [],
   "name": "MASK_R_CNN_Stats_Extractor.ipynb",
   "provenance": [],
   "toc_visible": true
  },
  "kernelspec": {
   "display_name": "Python 3",
   "language": "python",
   "name": "python3"
  },
  "language_info": {
   "codemirror_mode": {
    "name": "ipython",
    "version": 3
   },
   "file_extension": ".py",
   "mimetype": "text/x-python",
   "name": "python",
   "nbconvert_exporter": "python",
   "pygments_lexer": "ipython3",
   "version": "3.6.12"
  }
 },
 "nbformat": 4,
 "nbformat_minor": 1
}
